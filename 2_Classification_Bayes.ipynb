{
 "cells": [
  {
   "cell_type": "markdown",
   "metadata": {
    "colab_type": "text",
    "id": "nSOthvcEZB1D"
   },
   "source": [
    "In this notebook we will build a classification model using Naive Bayes classifier from python's scikit learn library\n",
    "\n",
    "## Table of contents\n",
    "1- Data Loading<BR/>\n",
    "2- Data Exploration<BR/>\n",
    "3- Visualization<BR/>\n",
    "4- Preprocessing<BR/>\n",
    "5- Bernoulli Naive Bayes model and its variants<BR/>\n",
    "6- Gaussian Naive Bayes<BR/>\n",
    "7- Ensemble of Bernoulli and Gaussian model<BR/>\n",
    "8- Model comparision using ROC curve<BR/>\n",
    "9- Loading Data<BR/>\n",
    "\n",
    "##Loading Data\n",
    "In this section we will import all the necessary packages and load the datasets we plan to work on.<BR/> \n",
    "We will use the [Hotel booking](https://www.kaggle.com/jessemostipak/hotel-booking-demand) data and build a model to determine which customers will cancel their hotel booking.<BR/>"
   ]
  },
  {
   "cell_type": "code",
   "execution_count": 1,
   "metadata": {
    "colab": {},
    "colab_type": "code",
    "id": "FInSIUv2aqRy"
   },
   "outputs": [],
   "source": [
    "# import the libraries\n",
    "import numpy as np\n",
    "import pandas as pd\n",
    "import seaborn as sns\n",
    "import matplotlib.pyplot as pyplot\n",
    "from pylab import *\n",
    "from sklearn.naive_bayes import GaussianNB\n",
    "from sklearn.naive_bayes import BernoulliNB\n",
    "from sklearn.model_selection import train_test_split\n",
    "from sklearn import metrics\n",
    "from sklearn.preprocessing import LabelEncoder\n",
    "from sklearn.metrics import recall_score, precision_score, accuracy_score, f1_score\n",
    "from sklearn.metrics import confusion_matrix, auc, roc_auc_score, roc_curve\n",
    "import warnings\n",
    "warnings.filterwarnings('ignore')"
   ]
  },
  {
   "cell_type": "markdown",
   "metadata": {
    "colab_type": "text",
    "id": "P2rAsaWGbrxj"
   },
   "source": []
  },
  {
   "cell_type": "code",
   "execution_count": 0,
   "metadata": {
    "colab": {},
    "colab_type": "code",
    "id": "CU1XDpDMa9I7"
   },
   "outputs": [],
   "source": [
    "# load the data\n",
    "file_path = 'https://raw.githubusercontent.com/rfordatascience/tidytuesday/master/data/2020/2020-02-11/hotels.csv'\n",
    "df = pd.read_csv(file_path)"
   ]
  },
  {
   "cell_type": "markdown",
   "metadata": {
    "colab_type": "text",
    "id": "O4xyPvZxbEry"
   },
   "source": [
    "## Explore the dataset\n",
    "Understanding the data, its features and distribution "
   ]
  },
  {
   "cell_type": "code",
   "execution_count": 310,
   "metadata": {
    "colab": {
     "base_uri": "https://localhost:8080/",
     "height": 305
    },
    "colab_type": "code",
    "id": "8ljK58_0a9TP",
    "outputId": "560cbcdb-2f65-48de-eaea-8d5ebc53aa30"
   },
   "outputs": [
    {
     "data": {
      "text/html": [
       "<div>\n",
       "<style scoped>\n",
       "    .dataframe tbody tr th:only-of-type {\n",
       "        vertical-align: middle;\n",
       "    }\n",
       "\n",
       "    .dataframe tbody tr th {\n",
       "        vertical-align: top;\n",
       "    }\n",
       "\n",
       "    .dataframe thead th {\n",
       "        text-align: right;\n",
       "    }\n",
       "</style>\n",
       "<table border=\"1\" class=\"dataframe\">\n",
       "  <thead>\n",
       "    <tr style=\"text-align: right;\">\n",
       "      <th></th>\n",
       "      <th>hotel</th>\n",
       "      <th>is_canceled</th>\n",
       "      <th>lead_time</th>\n",
       "      <th>arrival_date_year</th>\n",
       "      <th>arrival_date_month</th>\n",
       "      <th>arrival_date_week_number</th>\n",
       "      <th>arrival_date_day_of_month</th>\n",
       "      <th>stays_in_weekend_nights</th>\n",
       "      <th>stays_in_week_nights</th>\n",
       "      <th>adults</th>\n",
       "      <th>children</th>\n",
       "      <th>babies</th>\n",
       "      <th>meal</th>\n",
       "      <th>country</th>\n",
       "      <th>market_segment</th>\n",
       "      <th>distribution_channel</th>\n",
       "      <th>is_repeated_guest</th>\n",
       "      <th>previous_cancellations</th>\n",
       "      <th>previous_bookings_not_canceled</th>\n",
       "      <th>reserved_room_type</th>\n",
       "      <th>assigned_room_type</th>\n",
       "      <th>booking_changes</th>\n",
       "      <th>deposit_type</th>\n",
       "      <th>agent</th>\n",
       "      <th>company</th>\n",
       "      <th>days_in_waiting_list</th>\n",
       "      <th>customer_type</th>\n",
       "      <th>adr</th>\n",
       "      <th>required_car_parking_spaces</th>\n",
       "      <th>total_of_special_requests</th>\n",
       "      <th>reservation_status</th>\n",
       "      <th>reservation_status_date</th>\n",
       "    </tr>\n",
       "  </thead>\n",
       "  <tbody>\n",
       "    <tr>\n",
       "      <th>0</th>\n",
       "      <td>Resort Hotel</td>\n",
       "      <td>0</td>\n",
       "      <td>342</td>\n",
       "      <td>2015</td>\n",
       "      <td>July</td>\n",
       "      <td>27</td>\n",
       "      <td>1</td>\n",
       "      <td>0</td>\n",
       "      <td>0</td>\n",
       "      <td>2</td>\n",
       "      <td>0.0</td>\n",
       "      <td>0</td>\n",
       "      <td>BB</td>\n",
       "      <td>PRT</td>\n",
       "      <td>Direct</td>\n",
       "      <td>Direct</td>\n",
       "      <td>0</td>\n",
       "      <td>0</td>\n",
       "      <td>0</td>\n",
       "      <td>C</td>\n",
       "      <td>C</td>\n",
       "      <td>3</td>\n",
       "      <td>No Deposit</td>\n",
       "      <td>NaN</td>\n",
       "      <td>NaN</td>\n",
       "      <td>0</td>\n",
       "      <td>Transient</td>\n",
       "      <td>0.0</td>\n",
       "      <td>0</td>\n",
       "      <td>0</td>\n",
       "      <td>Check-Out</td>\n",
       "      <td>2015-07-01</td>\n",
       "    </tr>\n",
       "    <tr>\n",
       "      <th>1</th>\n",
       "      <td>Resort Hotel</td>\n",
       "      <td>0</td>\n",
       "      <td>737</td>\n",
       "      <td>2015</td>\n",
       "      <td>July</td>\n",
       "      <td>27</td>\n",
       "      <td>1</td>\n",
       "      <td>0</td>\n",
       "      <td>0</td>\n",
       "      <td>2</td>\n",
       "      <td>0.0</td>\n",
       "      <td>0</td>\n",
       "      <td>BB</td>\n",
       "      <td>PRT</td>\n",
       "      <td>Direct</td>\n",
       "      <td>Direct</td>\n",
       "      <td>0</td>\n",
       "      <td>0</td>\n",
       "      <td>0</td>\n",
       "      <td>C</td>\n",
       "      <td>C</td>\n",
       "      <td>4</td>\n",
       "      <td>No Deposit</td>\n",
       "      <td>NaN</td>\n",
       "      <td>NaN</td>\n",
       "      <td>0</td>\n",
       "      <td>Transient</td>\n",
       "      <td>0.0</td>\n",
       "      <td>0</td>\n",
       "      <td>0</td>\n",
       "      <td>Check-Out</td>\n",
       "      <td>2015-07-01</td>\n",
       "    </tr>\n",
       "    <tr>\n",
       "      <th>2</th>\n",
       "      <td>Resort Hotel</td>\n",
       "      <td>0</td>\n",
       "      <td>7</td>\n",
       "      <td>2015</td>\n",
       "      <td>July</td>\n",
       "      <td>27</td>\n",
       "      <td>1</td>\n",
       "      <td>0</td>\n",
       "      <td>1</td>\n",
       "      <td>1</td>\n",
       "      <td>0.0</td>\n",
       "      <td>0</td>\n",
       "      <td>BB</td>\n",
       "      <td>GBR</td>\n",
       "      <td>Direct</td>\n",
       "      <td>Direct</td>\n",
       "      <td>0</td>\n",
       "      <td>0</td>\n",
       "      <td>0</td>\n",
       "      <td>A</td>\n",
       "      <td>C</td>\n",
       "      <td>0</td>\n",
       "      <td>No Deposit</td>\n",
       "      <td>NaN</td>\n",
       "      <td>NaN</td>\n",
       "      <td>0</td>\n",
       "      <td>Transient</td>\n",
       "      <td>75.0</td>\n",
       "      <td>0</td>\n",
       "      <td>0</td>\n",
       "      <td>Check-Out</td>\n",
       "      <td>2015-07-02</td>\n",
       "    </tr>\n",
       "    <tr>\n",
       "      <th>3</th>\n",
       "      <td>Resort Hotel</td>\n",
       "      <td>0</td>\n",
       "      <td>13</td>\n",
       "      <td>2015</td>\n",
       "      <td>July</td>\n",
       "      <td>27</td>\n",
       "      <td>1</td>\n",
       "      <td>0</td>\n",
       "      <td>1</td>\n",
       "      <td>1</td>\n",
       "      <td>0.0</td>\n",
       "      <td>0</td>\n",
       "      <td>BB</td>\n",
       "      <td>GBR</td>\n",
       "      <td>Corporate</td>\n",
       "      <td>Corporate</td>\n",
       "      <td>0</td>\n",
       "      <td>0</td>\n",
       "      <td>0</td>\n",
       "      <td>A</td>\n",
       "      <td>A</td>\n",
       "      <td>0</td>\n",
       "      <td>No Deposit</td>\n",
       "      <td>304.0</td>\n",
       "      <td>NaN</td>\n",
       "      <td>0</td>\n",
       "      <td>Transient</td>\n",
       "      <td>75.0</td>\n",
       "      <td>0</td>\n",
       "      <td>0</td>\n",
       "      <td>Check-Out</td>\n",
       "      <td>2015-07-02</td>\n",
       "    </tr>\n",
       "    <tr>\n",
       "      <th>4</th>\n",
       "      <td>Resort Hotel</td>\n",
       "      <td>0</td>\n",
       "      <td>14</td>\n",
       "      <td>2015</td>\n",
       "      <td>July</td>\n",
       "      <td>27</td>\n",
       "      <td>1</td>\n",
       "      <td>0</td>\n",
       "      <td>2</td>\n",
       "      <td>2</td>\n",
       "      <td>0.0</td>\n",
       "      <td>0</td>\n",
       "      <td>BB</td>\n",
       "      <td>GBR</td>\n",
       "      <td>Online TA</td>\n",
       "      <td>TA/TO</td>\n",
       "      <td>0</td>\n",
       "      <td>0</td>\n",
       "      <td>0</td>\n",
       "      <td>A</td>\n",
       "      <td>A</td>\n",
       "      <td>0</td>\n",
       "      <td>No Deposit</td>\n",
       "      <td>240.0</td>\n",
       "      <td>NaN</td>\n",
       "      <td>0</td>\n",
       "      <td>Transient</td>\n",
       "      <td>98.0</td>\n",
       "      <td>0</td>\n",
       "      <td>1</td>\n",
       "      <td>Check-Out</td>\n",
       "      <td>2015-07-03</td>\n",
       "    </tr>\n",
       "  </tbody>\n",
       "</table>\n",
       "</div>"
      ],
      "text/plain": [
       "          hotel  is_canceled  ...  reservation_status  reservation_status_date\n",
       "0  Resort Hotel            0  ...           Check-Out               2015-07-01\n",
       "1  Resort Hotel            0  ...           Check-Out               2015-07-01\n",
       "2  Resort Hotel            0  ...           Check-Out               2015-07-02\n",
       "3  Resort Hotel            0  ...           Check-Out               2015-07-02\n",
       "4  Resort Hotel            0  ...           Check-Out               2015-07-03\n",
       "\n",
       "[5 rows x 32 columns]"
      ]
     },
     "execution_count": 310,
     "metadata": {
      "tags": []
     },
     "output_type": "execute_result"
    }
   ],
   "source": [
    "df.head()"
   ]
  },
  {
   "cell_type": "code",
   "execution_count": 311,
   "metadata": {
    "colab": {
     "base_uri": "https://localhost:8080/",
     "height": 35
    },
    "colab_type": "code",
    "id": "yVaFW5vWepeG",
    "outputId": "1d8eb31e-e865-490e-da38-eba8880acdeb"
   },
   "outputs": [
    {
     "data": {
      "text/plain": [
       "(119390, 32)"
      ]
     },
     "execution_count": 311,
     "metadata": {
      "tags": []
     },
     "output_type": "execute_result"
    }
   ],
   "source": [
    "df.shape"
   ]
  },
  {
   "cell_type": "code",
   "execution_count": 312,
   "metadata": {
    "colab": {
     "base_uri": "https://localhost:8080/",
     "height": 587
    },
    "colab_type": "code",
    "id": "FeAy2q_neqLp",
    "outputId": "640f2d82-2279-47da-853b-aee0db9ca884"
   },
   "outputs": [
    {
     "data": {
      "text/plain": [
       "hotel                              object\n",
       "is_canceled                         int64\n",
       "lead_time                           int64\n",
       "arrival_date_year                   int64\n",
       "arrival_date_month                 object\n",
       "arrival_date_week_number            int64\n",
       "arrival_date_day_of_month           int64\n",
       "stays_in_weekend_nights             int64\n",
       "stays_in_week_nights                int64\n",
       "adults                              int64\n",
       "children                          float64\n",
       "babies                              int64\n",
       "meal                               object\n",
       "country                            object\n",
       "market_segment                     object\n",
       "distribution_channel               object\n",
       "is_repeated_guest                   int64\n",
       "previous_cancellations              int64\n",
       "previous_bookings_not_canceled      int64\n",
       "reserved_room_type                 object\n",
       "assigned_room_type                 object\n",
       "booking_changes                     int64\n",
       "deposit_type                       object\n",
       "agent                             float64\n",
       "company                           float64\n",
       "days_in_waiting_list                int64\n",
       "customer_type                      object\n",
       "adr                               float64\n",
       "required_car_parking_spaces         int64\n",
       "total_of_special_requests           int64\n",
       "reservation_status                 object\n",
       "reservation_status_date            object\n",
       "dtype: object"
      ]
     },
     "execution_count": 312,
     "metadata": {
      "tags": []
     },
     "output_type": "execute_result"
    }
   ],
   "source": [
    "df.dtypes # check the datatype of features"
   ]
  },
  {
   "cell_type": "markdown",
   "metadata": {
    "colab_type": "text",
    "id": "7HYuK82SDSGX"
   },
   "source": [
    "We found numbers and categories"
   ]
  },
  {
   "cell_type": "code",
   "execution_count": 313,
   "metadata": {
    "colab": {
     "base_uri": "https://localhost:8080/",
     "height": 225
    },
    "colab_type": "code",
    "id": "EgdcmAvAfiru",
    "outputId": "b26a7202-418e-4984-b161-c232c2280eaa"
   },
   "outputs": [
    {
     "data": {
      "text/plain": [
       "Index(['hotel', 'is_canceled', 'lead_time', 'arrival_date_year',\n",
       "       'arrival_date_month', 'arrival_date_week_number',\n",
       "       'arrival_date_day_of_month', 'stays_in_weekend_nights',\n",
       "       'stays_in_week_nights', 'adults', 'children', 'babies', 'meal',\n",
       "       'country', 'market_segment', 'distribution_channel',\n",
       "       'is_repeated_guest', 'previous_cancellations',\n",
       "       'previous_bookings_not_canceled', 'reserved_room_type',\n",
       "       'assigned_room_type', 'booking_changes', 'deposit_type', 'agent',\n",
       "       'company', 'days_in_waiting_list', 'customer_type', 'adr',\n",
       "       'required_car_parking_spaces', 'total_of_special_requests',\n",
       "       'reservation_status', 'reservation_status_date'],\n",
       "      dtype='object')"
      ]
     },
     "execution_count": 313,
     "metadata": {
      "tags": []
     },
     "output_type": "execute_result"
    }
   ],
   "source": [
    "df.columns # feature list"
   ]
  },
  {
   "cell_type": "code",
   "execution_count": 314,
   "metadata": {
    "colab": {
     "base_uri": "https://localhost:8080/",
     "height": 1000
    },
    "colab_type": "code",
    "id": "nD1u30lga-vn",
    "outputId": "0ed36eea-1fc2-4c69-bd0c-2d3c5c4a49eb"
   },
   "outputs": [
    {
     "data": {
      "text/html": [
       "<div>\n",
       "<style scoped>\n",
       "    .dataframe tbody tr th:only-of-type {\n",
       "        vertical-align: middle;\n",
       "    }\n",
       "\n",
       "    .dataframe tbody tr th {\n",
       "        vertical-align: top;\n",
       "    }\n",
       "\n",
       "    .dataframe thead th {\n",
       "        text-align: right;\n",
       "    }\n",
       "</style>\n",
       "<table border=\"1\" class=\"dataframe\">\n",
       "  <thead>\n",
       "    <tr style=\"text-align: right;\">\n",
       "      <th></th>\n",
       "      <th>column_name</th>\n",
       "      <th>percent_missing</th>\n",
       "    </tr>\n",
       "  </thead>\n",
       "  <tbody>\n",
       "    <tr>\n",
       "      <th>company</th>\n",
       "      <td>company</td>\n",
       "      <td>94.306893</td>\n",
       "    </tr>\n",
       "    <tr>\n",
       "      <th>agent</th>\n",
       "      <td>agent</td>\n",
       "      <td>13.686238</td>\n",
       "    </tr>\n",
       "    <tr>\n",
       "      <th>country</th>\n",
       "      <td>country</td>\n",
       "      <td>0.408744</td>\n",
       "    </tr>\n",
       "    <tr>\n",
       "      <th>children</th>\n",
       "      <td>children</td>\n",
       "      <td>0.003350</td>\n",
       "    </tr>\n",
       "    <tr>\n",
       "      <th>reserved_room_type</th>\n",
       "      <td>reserved_room_type</td>\n",
       "      <td>0.000000</td>\n",
       "    </tr>\n",
       "    <tr>\n",
       "      <th>assigned_room_type</th>\n",
       "      <td>assigned_room_type</td>\n",
       "      <td>0.000000</td>\n",
       "    </tr>\n",
       "    <tr>\n",
       "      <th>booking_changes</th>\n",
       "      <td>booking_changes</td>\n",
       "      <td>0.000000</td>\n",
       "    </tr>\n",
       "    <tr>\n",
       "      <th>deposit_type</th>\n",
       "      <td>deposit_type</td>\n",
       "      <td>0.000000</td>\n",
       "    </tr>\n",
       "    <tr>\n",
       "      <th>hotel</th>\n",
       "      <td>hotel</td>\n",
       "      <td>0.000000</td>\n",
       "    </tr>\n",
       "    <tr>\n",
       "      <th>previous_cancellations</th>\n",
       "      <td>previous_cancellations</td>\n",
       "      <td>0.000000</td>\n",
       "    </tr>\n",
       "    <tr>\n",
       "      <th>days_in_waiting_list</th>\n",
       "      <td>days_in_waiting_list</td>\n",
       "      <td>0.000000</td>\n",
       "    </tr>\n",
       "    <tr>\n",
       "      <th>customer_type</th>\n",
       "      <td>customer_type</td>\n",
       "      <td>0.000000</td>\n",
       "    </tr>\n",
       "    <tr>\n",
       "      <th>adr</th>\n",
       "      <td>adr</td>\n",
       "      <td>0.000000</td>\n",
       "    </tr>\n",
       "    <tr>\n",
       "      <th>required_car_parking_spaces</th>\n",
       "      <td>required_car_parking_spaces</td>\n",
       "      <td>0.000000</td>\n",
       "    </tr>\n",
       "    <tr>\n",
       "      <th>total_of_special_requests</th>\n",
       "      <td>total_of_special_requests</td>\n",
       "      <td>0.000000</td>\n",
       "    </tr>\n",
       "    <tr>\n",
       "      <th>reservation_status</th>\n",
       "      <td>reservation_status</td>\n",
       "      <td>0.000000</td>\n",
       "    </tr>\n",
       "    <tr>\n",
       "      <th>previous_bookings_not_canceled</th>\n",
       "      <td>previous_bookings_not_canceled</td>\n",
       "      <td>0.000000</td>\n",
       "    </tr>\n",
       "    <tr>\n",
       "      <th>is_repeated_guest</th>\n",
       "      <td>is_repeated_guest</td>\n",
       "      <td>0.000000</td>\n",
       "    </tr>\n",
       "    <tr>\n",
       "      <th>is_canceled</th>\n",
       "      <td>is_canceled</td>\n",
       "      <td>0.000000</td>\n",
       "    </tr>\n",
       "    <tr>\n",
       "      <th>distribution_channel</th>\n",
       "      <td>distribution_channel</td>\n",
       "      <td>0.000000</td>\n",
       "    </tr>\n",
       "    <tr>\n",
       "      <th>market_segment</th>\n",
       "      <td>market_segment</td>\n",
       "      <td>0.000000</td>\n",
       "    </tr>\n",
       "    <tr>\n",
       "      <th>meal</th>\n",
       "      <td>meal</td>\n",
       "      <td>0.000000</td>\n",
       "    </tr>\n",
       "    <tr>\n",
       "      <th>babies</th>\n",
       "      <td>babies</td>\n",
       "      <td>0.000000</td>\n",
       "    </tr>\n",
       "    <tr>\n",
       "      <th>adults</th>\n",
       "      <td>adults</td>\n",
       "      <td>0.000000</td>\n",
       "    </tr>\n",
       "    <tr>\n",
       "      <th>stays_in_week_nights</th>\n",
       "      <td>stays_in_week_nights</td>\n",
       "      <td>0.000000</td>\n",
       "    </tr>\n",
       "    <tr>\n",
       "      <th>stays_in_weekend_nights</th>\n",
       "      <td>stays_in_weekend_nights</td>\n",
       "      <td>0.000000</td>\n",
       "    </tr>\n",
       "    <tr>\n",
       "      <th>arrival_date_day_of_month</th>\n",
       "      <td>arrival_date_day_of_month</td>\n",
       "      <td>0.000000</td>\n",
       "    </tr>\n",
       "    <tr>\n",
       "      <th>arrival_date_week_number</th>\n",
       "      <td>arrival_date_week_number</td>\n",
       "      <td>0.000000</td>\n",
       "    </tr>\n",
       "    <tr>\n",
       "      <th>arrival_date_month</th>\n",
       "      <td>arrival_date_month</td>\n",
       "      <td>0.000000</td>\n",
       "    </tr>\n",
       "    <tr>\n",
       "      <th>arrival_date_year</th>\n",
       "      <td>arrival_date_year</td>\n",
       "      <td>0.000000</td>\n",
       "    </tr>\n",
       "    <tr>\n",
       "      <th>lead_time</th>\n",
       "      <td>lead_time</td>\n",
       "      <td>0.000000</td>\n",
       "    </tr>\n",
       "    <tr>\n",
       "      <th>reservation_status_date</th>\n",
       "      <td>reservation_status_date</td>\n",
       "      <td>0.000000</td>\n",
       "    </tr>\n",
       "  </tbody>\n",
       "</table>\n",
       "</div>"
      ],
      "text/plain": [
       "                                                   column_name  percent_missing\n",
       "company                                                company        94.306893\n",
       "agent                                                    agent        13.686238\n",
       "country                                                country         0.408744\n",
       "children                                              children         0.003350\n",
       "reserved_room_type                          reserved_room_type         0.000000\n",
       "assigned_room_type                          assigned_room_type         0.000000\n",
       "booking_changes                                booking_changes         0.000000\n",
       "deposit_type                                      deposit_type         0.000000\n",
       "hotel                                                    hotel         0.000000\n",
       "previous_cancellations                  previous_cancellations         0.000000\n",
       "days_in_waiting_list                      days_in_waiting_list         0.000000\n",
       "customer_type                                    customer_type         0.000000\n",
       "adr                                                        adr         0.000000\n",
       "required_car_parking_spaces        required_car_parking_spaces         0.000000\n",
       "total_of_special_requests            total_of_special_requests         0.000000\n",
       "reservation_status                          reservation_status         0.000000\n",
       "previous_bookings_not_canceled  previous_bookings_not_canceled         0.000000\n",
       "is_repeated_guest                            is_repeated_guest         0.000000\n",
       "is_canceled                                        is_canceled         0.000000\n",
       "distribution_channel                      distribution_channel         0.000000\n",
       "market_segment                                  market_segment         0.000000\n",
       "meal                                                      meal         0.000000\n",
       "babies                                                  babies         0.000000\n",
       "adults                                                  adults         0.000000\n",
       "stays_in_week_nights                      stays_in_week_nights         0.000000\n",
       "stays_in_weekend_nights                stays_in_weekend_nights         0.000000\n",
       "arrival_date_day_of_month            arrival_date_day_of_month         0.000000\n",
       "arrival_date_week_number              arrival_date_week_number         0.000000\n",
       "arrival_date_month                          arrival_date_month         0.000000\n",
       "arrival_date_year                            arrival_date_year         0.000000\n",
       "lead_time                                            lead_time         0.000000\n",
       "reservation_status_date                reservation_status_date         0.000000"
      ]
     },
     "execution_count": 314,
     "metadata": {
      "tags": []
     },
     "output_type": "execute_result"
    }
   ],
   "source": [
    "# check for null values\n",
    "percent_missing = df.isnull().sum() * 100 / len(df)\n",
    "missing_value_df = pd.DataFrame({'column_name': df.columns, 'percent_missing': percent_missing})\n",
    "missing_value_df.sort_values('percent_missing', ascending=False, inplace=True)\n",
    "missing_value_df"
   ]
  },
  {
   "cell_type": "markdown",
   "metadata": {
    "colab_type": "text",
    "id": "R5Dn54J-bw1q"
   },
   "source": [
    "Company, agent, country and children have null values.<BR/>\n",
    "There are multiple techniques for imputing null value but for simplicity \n",
    "we impute them with 0.<BR/>\n",
    "As company has a very high null value percentage \n",
    "we will drop the column.\n",
    "\n",
    "Company has too many null values."
   ]
  },
  {
   "cell_type": "code",
   "execution_count": 0,
   "metadata": {
    "colab": {},
    "colab_type": "code",
    "id": "YqztGmtEcJbV"
   },
   "outputs": [],
   "source": [
    "# Let us create a copy of dataframe for backup and impute null with 0\n",
    "backup_df = df.copy\n",
    "df = df.drop('company', axis=1)\n",
    "df = df.fillna(0)"
   ]
  },
  {
   "cell_type": "code",
   "execution_count": 316,
   "metadata": {
    "colab": {
     "base_uri": "https://localhost:8080/",
     "height": 35
    },
    "colab_type": "code",
    "id": "Aj-IDnk9dZ9X",
    "outputId": "083866ba-56b1-4dbb-88a1-ec5653b7fe09"
   },
   "outputs": [
    {
     "data": {
      "text/plain": [
       "0.0"
      ]
     },
     "execution_count": 316,
     "metadata": {
      "tags": []
     },
     "output_type": "execute_result"
    }
   ],
   "source": [
    "# check that the df has no Null values\n",
    "(df['agent'].isnull().sum()/len(df)) * 100"
   ]
  },
  {
   "cell_type": "markdown",
   "metadata": {
    "colab_type": "text",
    "id": "8A3tito6dYmj"
   },
   "source": [
    "## Data Visualization\n",
    "In this task, our target variable is is_cancelled \n",
    "which indicates if the booking was cancelled.<BR/>\n",
    " 1 --> canceled, 0 --> Not canceled"
   ]
  },
  {
   "cell_type": "code",
   "execution_count": 317,
   "metadata": {
    "colab": {
     "base_uri": "https://localhost:8080/",
     "height": 1000
    },
    "colab_type": "code",
    "id": "4xefVyH5gbRv",
    "outputId": "4f68c86a-8175-4df3-811c-d5fc2d1c8d61"
   },
   "outputs": [
    {
     "data": {
      "text/plain": [
       "<matplotlib.axes._subplots.AxesSubplot at 0x7f3fc3d98080>"
      ]
     },
     "execution_count": 317,
     "metadata": {
      "tags": []
     },
     "output_type": "execute_result"
    },
    {
     "data": {
      "image/png": "[encoded data removed]",
      "text/plain": [
       "<Figure size 1440x1440 with 1 Axes>"
      ]
     },
     "metadata": {
      "tags": []
     },
     "output_type": "display_data"
    }
   ],
   "source": [
    "df['is_canceled'].value_counts().plot(kind='pie', autopct='%1.1f%%')"
   ]
  },
  {
   "cell_type": "markdown",
   "metadata": {
    "colab_type": "text",
    "id": "BnJa-J-WcIQw"
   },
   "source": [
    "37% customers have cancelled their bookings. Our data in imbalanced."
   ]
  },
  {
   "cell_type": "code",
   "execution_count": 318,
   "metadata": {
    "colab": {
     "base_uri": "https://localhost:8080/",
     "height": 225
    },
    "colab_type": "code",
    "id": "AsyrX4PWi_W_",
    "outputId": "c6e35547-adeb-4d26-a532-d0df293c9fd6"
   },
   "outputs": [
    {
     "data": {
      "text/plain": [
       "Index(['hotel', 'is_canceled', 'lead_time', 'arrival_date_year',\n",
       "       'arrival_date_month', 'arrival_date_week_number',\n",
       "       'arrival_date_day_of_month', 'stays_in_weekend_nights',\n",
       "       'stays_in_week_nights', 'adults', 'children', 'babies', 'meal',\n",
       "       'country', 'market_segment', 'distribution_channel',\n",
       "       'is_repeated_guest', 'previous_cancellations',\n",
       "       'previous_bookings_not_canceled', 'reserved_room_type',\n",
       "       'assigned_room_type', 'booking_changes', 'deposit_type', 'agent',\n",
       "       'days_in_waiting_list', 'customer_type', 'adr',\n",
       "       'required_car_parking_spaces', 'total_of_special_requests',\n",
       "       'reservation_status', 'reservation_status_date'],\n",
       "      dtype='object')"
      ]
     },
     "execution_count": 318,
     "metadata": {
      "tags": []
     },
     "output_type": "execute_result"
    }
   ],
   "source": [
    "df.columns"
   ]
  },
  {
   "cell_type": "code",
   "execution_count": 319,
   "metadata": {
    "colab": {
     "base_uri": "https://localhost:8080/",
     "height": 1000
    },
    "colab_type": "code",
    "id": "Zwe2pS_8jR2c",
    "outputId": "ed5317bd-0e79-4c35-fb9c-b5aefd8c5e13"
   },
   "outputs": [
    {
     "data": {
      "text/plain": [
       "<matplotlib.axes._subplots.AxesSubplot at 0x7f3fc4e22ac8>"
      ]
     },
     "execution_count": 319,
     "metadata": {
      "tags": []
     },
     "output_type": "execute_result"
    },
    {
     "data": {
      "image/png": "[encoded data removed]",
      "text/plain": [
       "<Figure size 1440x1440 with 1 Axes>"
      ]
     },
     "metadata": {
      "tags": []
     },
     "output_type": "display_data"
    }
   ],
   "source": [
    "# Hotel feature count and distribution across 0 and 1 class\n",
    "df['hotel'].value_counts().plot(kind='pie', autopct = '%1.1f%%') "
   ]
  },
  {
   "cell_type": "code",
   "execution_count": 320,
   "metadata": {
    "colab": {
     "base_uri": "https://localhost:8080/",
     "height": 1000
    },
    "colab_type": "code",
    "id": "POkyI92ejSoO",
    "outputId": "a7f9a6de-72b0-4d58-a355-c0541f8033a0"
   },
   "outputs": [
    {
     "data": {
      "text/plain": [
       "<matplotlib.axes._subplots.AxesSubplot at 0x7f3fc6e74208>"
      ]
     },
     "execution_count": 320,
     "metadata": {
      "tags": []
     },
     "output_type": "execute_result"
    },
    {
     "data": {
      "image/png": "[encoded data removed]",
      "text/plain": [
       "<Figure size 1440x1440 with 1 Axes>"
      ]
     },
     "metadata": {
      "tags": []
     },
     "output_type": "display_data"
    }
   ],
   "source": [
    "sns.countplot(x='is_canceled', hue='hotel', data = df)"
   ]
  },
  {
   "cell_type": "markdown",
   "metadata": {
    "colab_type": "text",
    "id": "7qu3X-YUjyjc"
   },
   "source": [
    "As data has higher city hotel reservation data points compared to resort, above observation is on par with same trend"
   ]
  },
  {
   "cell_type": "code",
   "execution_count": 321,
   "metadata": {
    "colab": {
     "base_uri": "https://localhost:8080/",
     "height": 1000
    },
    "colab_type": "code",
    "id": "xqnQBRPZjTGO",
    "outputId": "68e1941c-d650-4d7d-b25d-04d9763805c4"
   },
   "outputs": [
    {
     "data": {
      "text/plain": [
       "<matplotlib.axes._subplots.AxesSubplot at 0x7f3fc4658668>"
      ]
     },
     "execution_count": 321,
     "metadata": {
      "tags": []
     },
     "output_type": "execute_result"
    },
    {
     "data": {
      "image/png": "[encoded data removed]",
      "text/plain": [
       "<Figure size 1440x1440 with 1 Axes>"
      ]
     },
     "metadata": {
      "tags": []
     },
     "output_type": "display_data"
    }
   ],
   "source": [
    "# market segments\n",
    "df.groupby(['market_segment'])['is_canceled'].count().plot(kind='bar')"
   ]
  },
  {
   "cell_type": "markdown",
   "metadata": {
    "colab_type": "text",
    "id": "n1tQMgu0lA-D"
   },
   "source": [
    "## Feature Engineering\n",
    "1- Derive new features using existing features<BR/>\n",
    "2- Remove irrelevant features<BR/>\n",
    "3- Transform existing features<BR/>\n",
    "4- Encoding categorical variables"
   ]
  },
  {
   "cell_type": "code",
   "execution_count": 322,
   "metadata": {
    "colab": {
     "base_uri": "https://localhost:8080/",
     "height": 35
    },
    "colab_type": "code",
    "id": "nh_HGqeujrbi",
    "outputId": "c5d6e97b-187a-4f56-f026-59fc3c568bef"
   },
   "outputs": [
    {
     "data": {
      "text/plain": [
       "(83573, 31)"
      ]
     },
     "execution_count": 322,
     "metadata": {
      "tags": []
     },
     "output_type": "execute_result"
    }
   ],
   "source": [
    "# Split data into train test set in train:test=70:30 size\n",
    "train, test = train_test_split(df, test_size=0.3, random_state = 42)\n",
    "train.shape"
   ]
  },
  {
   "cell_type": "code",
   "execution_count": 323,
   "metadata": {
    "colab": {
     "base_uri": "https://localhost:8080/",
     "height": 35
    },
    "colab_type": "code",
    "id": "emH2dYN4jr90",
    "outputId": "82d97ab5-15c7-4efc-f3f9-f91aafa74a7b"
   },
   "outputs": [
    {
     "data": {
      "text/plain": [
       "(35817, 31)"
      ]
     },
     "execution_count": 323,
     "metadata": {
      "tags": []
     },
     "output_type": "execute_result"
    }
   ],
   "source": [
    "test.shape"
   ]
  },
  {
   "cell_type": "code",
   "execution_count": 0,
   "metadata": {
    "colab": {},
    "colab_type": "code",
    "id": "yZzEE8lZjsZc"
   },
   "outputs": [],
   "source": [
    "#Let us add weekend stay and weekday stay days to get total days of stay\n",
    "train['total_days'] = train['stays_in_week_nights'] + train['stays_in_weekend_nights']\n",
    "test['total_days'] = test['stays_in_week_nights'] + test['stays_in_weekend_nights']\n",
    "# drop the weekend stay and weekday stay days features\n",
    "train = train.drop('stays_in_week_nights', axis = 1).drop('stays_in_weekend_nights', axis = 1)"
   ]
  },
  {
   "cell_type": "code",
   "execution_count": 325,
   "metadata": {
    "colab": {
     "base_uri": "https://localhost:8080/",
     "height": 562
    },
    "colab_type": "code",
    "id": "vBtNn4F7muNT",
    "outputId": "b9c5cd1e-bf41-4fb8-a90f-15ee2ee79e5a"
   },
   "outputs": [
    {
     "data": {
      "image/png": "[encoded data removed]",
      "text/plain": [
       "<Figure size 1440x1440 with 2 Axes>"
      ]
     },
     "metadata": {
      "tags": []
     },
     "output_type": "display_data"
    }
   ],
   "source": [
    "# The most convenient way to take a quick look at a univariate distribution in seaborn is the distplot() function.\n",
    "train_0 = train[train['is_canceled']==0]\n",
    "train_1 = train[train['is_canceled']==1]\n",
    "sns.set(rc ={\"figure.figsize\":(20,20)})\n",
    "subplot(2,2,1)\n",
    "ax = sns.distplot(train_0['total_days'], bins=100, color='r')\n",
    "subplot(2,2,2)\n",
    "ax=sns.distplot(train_1['total_days'], bins=100, color= 'g')"
   ]
  },
  {
   "cell_type": "code",
   "execution_count": 0,
   "metadata": {
    "colab": {},
    "colab_type": "code",
    "id": "TXYMPrW2FhIk"
   },
   "outputs": [],
   "source": [
    "# total customers\n",
    "train['total_customers'] = train['adults'] + train['children'] + train['babies']\n",
    "test['total_customers'] = test['adults'] + test['children'] + test['babies']\n",
    "\n",
    "train = train.drop('adults', axis=1).drop('children', axis=1).drop('babies',axis=1)\n",
    "test = test.drop('adults', axis=1).drop('children', axis=1).drop('babies',axis=1)"
   ]
  },
  {
   "cell_type": "code",
   "execution_count": 327,
   "metadata": {
    "colab": {
     "base_uri": "https://localhost:8080/",
     "height": 356
    },
    "colab_type": "code",
    "id": "fS9vOwYYFiI_",
    "outputId": "92c1bf48-f975-409a-9680-87702354d813"
   },
   "outputs": [
    {
     "data": {
      "text/plain": [
       "<matplotlib.axes._subplots.AxesSubplot at 0x7f3fc36b1978>"
      ]
     },
     "execution_count": 327,
     "metadata": {
      "tags": []
     },
     "output_type": "execute_result"
    },
    {
     "data": {
      "image/png": "[encoded data removed]",
      "text/plain": [
       "<Figure size 360x360 with 1 Axes>"
      ]
     },
     "metadata": {
      "tags": []
     },
     "output_type": "display_data"
    }
   ],
   "source": [
    "train['total_customers'].value_counts().plot(kind='bar',figsize=(5,5))"
   ]
  },
  {
   "cell_type": "code",
   "execution_count": 0,
   "metadata": {
    "colab": {},
    "colab_type": "code",
    "id": "Cig97RnARP4s"
   },
   "outputs": [],
   "source": [
    "train = train.drop(['reservation_status_date'],axis=1)\n",
    "test = test.drop(['reservation_status_date'],axis=1)"
   ]
  },
  {
   "cell_type": "code",
   "execution_count": 329,
   "metadata": {
    "colab": {
     "base_uri": "https://localhost:8080/",
     "height": 35
    },
    "colab_type": "code",
    "id": "qKjRYKLVLyKn",
    "outputId": "1b615f89-83a1-432f-cbe7-03018761d14a"
   },
   "outputs": [
    {
     "name": "stdout",
     "output_type": "stream",
     "text": [
      "314\n"
     ]
    }
   ],
   "source": [
    "print(len(train['agent'].unique()))  # 314 unique values - Large number of unique agents and it is categorical, difficult to encode\n",
    "train = train.drop('agent', axis=1)\n",
    "test = test.drop('agent', axis=1)"
   ]
  },
  {
   "cell_type": "code",
   "execution_count": 330,
   "metadata": {
    "colab": {
     "base_uri": "https://localhost:8080/",
     "height": 35
    },
    "colab_type": "code",
    "id": "-cqeugX3LybE",
    "outputId": "daf2f248-5355-489b-e909-33db46c28247"
   },
   "outputs": [
    {
     "name": "stdout",
     "output_type": "stream",
     "text": [
      "170\n"
     ]
    }
   ],
   "source": [
    "print(len(train['country'].unique())) # 170 countries\n",
    "train = train.drop('country', axis=1)\n",
    "test = test.drop('country', axis=1)"
   ]
  },
  {
   "cell_type": "code",
   "execution_count": 331,
   "metadata": {
    "colab": {
     "base_uri": "https://localhost:8080/",
     "height": 373
    },
    "colab_type": "code",
    "id": "162GbACDLt2C",
    "outputId": "3e449e93-b7b2-411c-ea74-838ba763def2"
   },
   "outputs": [
    {
     "data": {
      "text/plain": [
       "array([[<matplotlib.axes._subplots.AxesSubplot object at 0x7f3fc29cd828>]],\n",
       "      dtype=object)"
      ]
     },
     "execution_count": 331,
     "metadata": {
      "tags": []
     },
     "output_type": "execute_result"
    },
    {
     "data": {
      "image/png": "[encoded data removed]",
      "text/plain": [
       "<Figure size 720x360 with 1 Axes>"
      ]
     },
     "metadata": {
      "tags": []
     },
     "output_type": "display_data"
    }
   ],
   "source": [
    "train.hist(column='previous_bookings_not_canceled', bins=20, figsize=(10,5))"
   ]
  },
  {
   "cell_type": "markdown",
   "metadata": {
    "colab_type": "text",
    "id": "JvioC8MYLqVg"
   },
   "source": [
    "`train['previous_bookings_not_canceled'].value_counts()` We observe that most data has value = 0; hence we drop the feature"
   ]
  },
  {
   "cell_type": "markdown",
   "metadata": {
    "colab_type": "text",
    "id": "WJqLZ-URVxgl"
   },
   "source": [
    "`train.groupby(['is_canceled'])['previous_bookings_not_canceled'].value_counts()` We observe that data distribution across both class is remains same"
   ]
  },
  {
   "cell_type": "code",
   "execution_count": 0,
   "metadata": {
    "colab": {},
    "colab_type": "code",
    "id": "sNhA7z3gUWwF"
   },
   "outputs": [],
   "source": [
    "train = train.drop('previous_bookings_not_canceled', axis=1)\n",
    "test = test.drop('previous_bookings_not_canceled', axis=1)"
   ]
  },
  {
   "cell_type": "code",
   "execution_count": 333,
   "metadata": {
    "colab": {
     "base_uri": "https://localhost:8080/",
     "height": 366
    },
    "colab_type": "code",
    "id": "Li7xXTzCUXcE",
    "outputId": "c22f4838-bffd-4802-993b-49c183934bfa"
   },
   "outputs": [
    {
     "data": {
      "image/png": "[encoded data removed]",
      "text/plain": [
       "<Figure size 360x360 with 1 Axes>"
      ]
     },
     "metadata": {
      "tags": []
     },
     "output_type": "display_data"
    }
   ],
   "source": [
    "train.groupby(['is_canceled'])['previous_cancellations'].value_counts().plot(kind='bar',figsize=(5,5))\n",
    "# We observe that most data has value = 0; and trend remains same across the 2 classes\n",
    "train = train.drop('previous_cancellations',axis=1)\n",
    "test = test.drop('previous_cancellations', axis=1)"
   ]
  },
  {
   "cell_type": "code",
   "execution_count": 334,
   "metadata": {
    "colab": {
     "base_uri": "https://localhost:8080/",
     "height": 35
    },
    "colab_type": "code",
    "id": "PLGmohgKUX-K",
    "outputId": "d5faa363-06e5-4307-f7d1-bad4e3e2ab4d"
   },
   "outputs": [
    {
     "data": {
      "text/plain": [
       "23"
      ]
     },
     "execution_count": 334,
     "metadata": {
      "tags": []
     },
     "output_type": "execute_result"
    }
   ],
   "source": [
    "len(train.columns)"
   ]
  },
  {
   "cell_type": "code",
   "execution_count": 0,
   "metadata": {
    "colab": {},
    "colab_type": "code",
    "id": "MeuWV0sfXqxW"
   },
   "outputs": [],
   "source": [
    "backup_train = train.copy()\n",
    "backup_test = test.copy()"
   ]
  },
  {
   "cell_type": "markdown",
   "metadata": {
    "colab_type": "text",
    "id": "mX1zdSb-YFRK"
   },
   "source": [
    "\n",
    "## Feature Correlation\n",
    "We will convert categorical features to numeric values using Label Encoder"
   ]
  },
  {
   "cell_type": "code",
   "execution_count": 0,
   "metadata": {
    "colab": {},
    "colab_type": "code",
    "id": "vok76EpeXrKi"
   },
   "outputs": [],
   "source": [
    "# custom encoding\n",
    "train['arrival_date_month'] = train['arrival_date_month'].map({'January':1, 'February':2, 'March':3, \\\n",
    "                                                          'April':4, 'May':5, 'June':6, 'July':7,\\\n",
    "                                                          'August':8, 'September': 9, 'Octover':10, \\\n",
    "                                                          'November':11, 'December':12})\n",
    "test['arrival_date_month'] = test['arrival_date_month'].map({'January':1, 'February':2, 'March':3, \\\n",
    "                                                          'April':4, 'May':5, 'June':6, 'July':7,\\\n",
    "                                                          'August':8, 'September': 9, 'Octover':10, \\\n",
    "                                                          'November':11, 'December':12})"
   ]
  },
  {
   "cell_type": "code",
   "execution_count": 0,
   "metadata": {
    "colab": {},
    "colab_type": "code",
    "id": "D8_iV2OzXrej"
   },
   "outputs": [],
   "source": [
    "encode = LabelEncoder()"
   ]
  },
  {
   "cell_type": "code",
   "execution_count": 338,
   "metadata": {
    "colab": {
     "base_uri": "https://localhost:8080/",
     "height": 173
    },
    "colab_type": "code",
    "id": "0c7W5o39XtcM",
    "outputId": "a40ec9dd-b94f-4587-9b05-b544499cf2ac"
   },
   "outputs": [
    {
     "data": {
      "text/plain": [
       "Index(['hotel', 'is_canceled', 'lead_time', 'arrival_date_year',\n",
       "       'arrival_date_month', 'arrival_date_week_number',\n",
       "       'arrival_date_day_of_month', 'meal', 'market_segment',\n",
       "       'distribution_channel', 'is_repeated_guest', 'reserved_room_type',\n",
       "       'assigned_room_type', 'booking_changes', 'deposit_type',\n",
       "       'days_in_waiting_list', 'customer_type', 'adr',\n",
       "       'required_car_parking_spaces', 'total_of_special_requests',\n",
       "       'reservation_status', 'total_days', 'total_customers'],\n",
       "      dtype='object')"
      ]
     },
     "execution_count": 338,
     "metadata": {
      "tags": []
     },
     "output_type": "execute_result"
    }
   ],
   "source": [
    "train.columns"
   ]
  },
  {
   "cell_type": "code",
   "execution_count": 339,
   "metadata": {
    "colab": {
     "base_uri": "https://localhost:8080/",
     "height": 35
    },
    "colab_type": "code",
    "id": "Gb5h8h8mXtf8",
    "outputId": "6de0c549-75e3-4784-dbb3-a6286d5dfdcc"
   },
   "outputs": [
    {
     "data": {
      "text/plain": [
       "array([2016, 2015, 2017])"
      ]
     },
     "execution_count": 339,
     "metadata": {
      "tags": []
     },
     "output_type": "execute_result"
    }
   ],
   "source": [
    "train['arrival_date_year'].unique()"
   ]
  },
  {
   "cell_type": "code",
   "execution_count": 0,
   "metadata": {
    "colab": {},
    "colab_type": "code",
    "id": "QVdv8uVzZ4B-"
   },
   "outputs": [],
   "source": [
    "cat_col=['hotel','arrival_date_year','meal','market_segment','distribution_channel','reserved_room_type', 'assigned_room_type',\\\n",
    "        'deposit_type','customer_type','reservation_status']\n",
    "for i in cat_col:\n",
    "    train[i] = encode.fit_transform(train[i])"
   ]
  },
  {
   "cell_type": "code",
   "execution_count": 341,
   "metadata": {
    "colab": {
     "base_uri": "https://localhost:8080/",
     "height": 198
    },
    "colab_type": "code",
    "id": "kuyvBVROZ5u5",
    "outputId": "8676ec0b-0d0c-4130-9f5c-539e1537f406"
   },
   "outputs": [
    {
     "data": {
      "text/html": [
       "<div>\n",
       "<style scoped>\n",
       "    .dataframe tbody tr th:only-of-type {\n",
       "        vertical-align: middle;\n",
       "    }\n",
       "\n",
       "    .dataframe tbody tr th {\n",
       "        vertical-align: top;\n",
       "    }\n",
       "\n",
       "    .dataframe thead th {\n",
       "        text-align: right;\n",
       "    }\n",
       "</style>\n",
       "<table border=\"1\" class=\"dataframe\">\n",
       "  <thead>\n",
       "    <tr style=\"text-align: right;\">\n",
       "      <th></th>\n",
       "      <th>hotel</th>\n",
       "      <th>arrival_date_year</th>\n",
       "      <th>meal</th>\n",
       "      <th>market_segment</th>\n",
       "      <th>distribution_channel</th>\n",
       "      <th>reserved_room_type</th>\n",
       "      <th>assigned_room_type</th>\n",
       "      <th>deposit_type</th>\n",
       "      <th>customer_type</th>\n",
       "      <th>reservation_status</th>\n",
       "    </tr>\n",
       "  </thead>\n",
       "  <tbody>\n",
       "    <tr>\n",
       "      <th>9710</th>\n",
       "      <td>1</td>\n",
       "      <td>1</td>\n",
       "      <td>0</td>\n",
       "      <td>6</td>\n",
       "      <td>3</td>\n",
       "      <td>3</td>\n",
       "      <td>3</td>\n",
       "      <td>0</td>\n",
       "      <td>2</td>\n",
       "      <td>0</td>\n",
       "    </tr>\n",
       "    <tr>\n",
       "      <th>40307</th>\n",
       "      <td>0</td>\n",
       "      <td>0</td>\n",
       "      <td>0</td>\n",
       "      <td>4</td>\n",
       "      <td>3</td>\n",
       "      <td>0</td>\n",
       "      <td>0</td>\n",
       "      <td>0</td>\n",
       "      <td>3</td>\n",
       "      <td>0</td>\n",
       "    </tr>\n",
       "    <tr>\n",
       "      <th>110051</th>\n",
       "      <td>0</td>\n",
       "      <td>2</td>\n",
       "      <td>0</td>\n",
       "      <td>6</td>\n",
       "      <td>3</td>\n",
       "      <td>3</td>\n",
       "      <td>3</td>\n",
       "      <td>0</td>\n",
       "      <td>2</td>\n",
       "      <td>1</td>\n",
       "    </tr>\n",
       "    <tr>\n",
       "      <th>22999</th>\n",
       "      <td>1</td>\n",
       "      <td>2</td>\n",
       "      <td>0</td>\n",
       "      <td>6</td>\n",
       "      <td>3</td>\n",
       "      <td>0</td>\n",
       "      <td>0</td>\n",
       "      <td>0</td>\n",
       "      <td>2</td>\n",
       "      <td>1</td>\n",
       "    </tr>\n",
       "    <tr>\n",
       "      <th>8344</th>\n",
       "      <td>1</td>\n",
       "      <td>1</td>\n",
       "      <td>0</td>\n",
       "      <td>6</td>\n",
       "      <td>3</td>\n",
       "      <td>0</td>\n",
       "      <td>0</td>\n",
       "      <td>0</td>\n",
       "      <td>2</td>\n",
       "      <td>0</td>\n",
       "    </tr>\n",
       "  </tbody>\n",
       "</table>\n",
       "</div>"
      ],
      "text/plain": [
       "        hotel  arrival_date_year  ...  customer_type  reservation_status\n",
       "9710        1                  1  ...              2                   0\n",
       "40307       0                  0  ...              3                   0\n",
       "110051      0                  2  ...              2                   1\n",
       "22999       1                  2  ...              2                   1\n",
       "8344        1                  1  ...              2                   0\n",
       "\n",
       "[5 rows x 10 columns]"
      ]
     },
     "execution_count": 341,
     "metadata": {
      "tags": []
     },
     "output_type": "execute_result"
    }
   ],
   "source": [
    "train[cat_col].head()"
   ]
  },
  {
   "cell_type": "code",
   "execution_count": 342,
   "metadata": {
    "colab": {
     "base_uri": "https://localhost:8080/",
     "height": 35
    },
    "colab_type": "code",
    "id": "AaLEDNjZZ5xJ",
    "outputId": "02c3f990-0c4c-495e-ddbb-a105aa6c3ec8"
   },
   "outputs": [
    {
     "data": {
      "text/plain": [
       "array([1, 0, 2])"
      ]
     },
     "execution_count": 342,
     "metadata": {
      "tags": []
     },
     "output_type": "execute_result"
    }
   ],
   "source": [
    "train['arrival_date_year'].unique()"
   ]
  },
  {
   "cell_type": "markdown",
   "metadata": {
    "colab_type": "text",
    "id": "qWq0J0xXXtk3"
   },
   "source": [
    "## Feature correlation\n",
    "Spearman and Pearson are the 2 statistical methods to compute the correlation between features.<BR/>\n",
    "\n",
    "Pearson is suggested method for features with continuous values and linear relationship.<BR/>\n",
    "Spearman is suggested method when features have ordinal categorical data or non-linear relationship.<BR/>\n",
    "Pandas correlation method by default uses Pearson method, but we can also change it to spearman.\n"
   ]
  },
  {
   "cell_type": "code",
   "execution_count": 343,
   "metadata": {
    "colab": {
     "base_uri": "https://localhost:8080/",
     "height": 758
    },
    "colab_type": "code",
    "id": "gI9eVr-KXtxj",
    "outputId": "efce6a99-69e9-44d0-e44a-7f7ec31ba53e"
   },
   "outputs": [
    {
     "data": {
      "text/html": [
       "<div>\n",
       "<style scoped>\n",
       "    .dataframe tbody tr th:only-of-type {\n",
       "        vertical-align: middle;\n",
       "    }\n",
       "\n",
       "    .dataframe tbody tr th {\n",
       "        vertical-align: top;\n",
       "    }\n",
       "\n",
       "    .dataframe thead th {\n",
       "        text-align: right;\n",
       "    }\n",
       "</style>\n",
       "<table border=\"1\" class=\"dataframe\">\n",
       "  <thead>\n",
       "    <tr style=\"text-align: right;\">\n",
       "      <th></th>\n",
       "      <th>hotel</th>\n",
       "      <th>is_canceled</th>\n",
       "      <th>lead_time</th>\n",
       "      <th>arrival_date_year</th>\n",
       "      <th>arrival_date_month</th>\n",
       "      <th>arrival_date_week_number</th>\n",
       "      <th>arrival_date_day_of_month</th>\n",
       "      <th>meal</th>\n",
       "      <th>market_segment</th>\n",
       "      <th>distribution_channel</th>\n",
       "      <th>is_repeated_guest</th>\n",
       "      <th>reserved_room_type</th>\n",
       "      <th>assigned_room_type</th>\n",
       "      <th>booking_changes</th>\n",
       "      <th>deposit_type</th>\n",
       "      <th>days_in_waiting_list</th>\n",
       "      <th>customer_type</th>\n",
       "      <th>adr</th>\n",
       "      <th>required_car_parking_spaces</th>\n",
       "      <th>total_of_special_requests</th>\n",
       "      <th>reservation_status</th>\n",
       "      <th>total_days</th>\n",
       "      <th>total_customers</th>\n",
       "    </tr>\n",
       "  </thead>\n",
       "  <tbody>\n",
       "    <tr>\n",
       "      <th>hotel</th>\n",
       "      <td>1.000000</td>\n",
       "      <td>-0.135266</td>\n",
       "      <td>-0.075241</td>\n",
       "      <td>-0.035946</td>\n",
       "      <td>0.001268</td>\n",
       "      <td>-0.004423</td>\n",
       "      <td>0.002416</td>\n",
       "      <td>-0.009009</td>\n",
       "      <td>-0.084364</td>\n",
       "      <td>-0.174473</td>\n",
       "      <td>0.051430</td>\n",
       "      <td>0.246741</td>\n",
       "      <td>0.305863</td>\n",
       "      <td>0.070201</td>\n",
       "      <td>-0.155026</td>\n",
       "      <td>-0.071502</td>\n",
       "      <td>-0.047622</td>\n",
       "      <td>-0.099411</td>\n",
       "      <td>0.216490</td>\n",
       "      <td>0.042221</td>\n",
       "      <td>0.123520</td>\n",
       "      <td>0.242948</td>\n",
       "      <td>0.040640</td>\n",
       "    </tr>\n",
       "    <tr>\n",
       "      <th>is_canceled</th>\n",
       "      <td>-0.135266</td>\n",
       "      <td>1.000000</td>\n",
       "      <td>0.293248</td>\n",
       "      <td>0.017205</td>\n",
       "      <td>0.008573</td>\n",
       "      <td>0.006479</td>\n",
       "      <td>-0.006537</td>\n",
       "      <td>-0.014264</td>\n",
       "      <td>0.057241</td>\n",
       "      <td>0.166512</td>\n",
       "      <td>-0.085456</td>\n",
       "      <td>-0.059555</td>\n",
       "      <td>-0.173898</td>\n",
       "      <td>-0.140347</td>\n",
       "      <td>0.467354</td>\n",
       "      <td>0.054322</td>\n",
       "      <td>-0.065687</td>\n",
       "      <td>0.047221</td>\n",
       "      <td>-0.194711</td>\n",
       "      <td>-0.237031</td>\n",
       "      <td>-0.915883</td>\n",
       "      <td>0.021257</td>\n",
       "      <td>0.048319</td>\n",
       "    </tr>\n",
       "    <tr>\n",
       "      <th>lead_time</th>\n",
       "      <td>-0.075241</td>\n",
       "      <td>0.293248</td>\n",
       "      <td>1.000000</td>\n",
       "      <td>0.038852</td>\n",
       "      <td>0.127818</td>\n",
       "      <td>0.126104</td>\n",
       "      <td>0.002054</td>\n",
       "      <td>0.004313</td>\n",
       "      <td>0.013143</td>\n",
       "      <td>0.220976</td>\n",
       "      <td>-0.123915</td>\n",
       "      <td>-0.107382</td>\n",
       "      <td>-0.173158</td>\n",
       "      <td>0.004114</td>\n",
       "      <td>0.375777</td>\n",
       "      <td>0.170237</td>\n",
       "      <td>0.075026</td>\n",
       "      <td>-0.061618</td>\n",
       "      <td>-0.116425</td>\n",
       "      <td>-0.095988</td>\n",
       "      <td>-0.302591</td>\n",
       "      <td>0.157373</td>\n",
       "      <td>0.073295</td>\n",
       "    </tr>\n",
       "    <tr>\n",
       "      <th>arrival_date_year</th>\n",
       "      <td>-0.035946</td>\n",
       "      <td>0.017205</td>\n",
       "      <td>0.038852</td>\n",
       "      <td>1.000000</td>\n",
       "      <td>-0.491213</td>\n",
       "      <td>-0.540726</td>\n",
       "      <td>0.004283</td>\n",
       "      <td>0.067755</td>\n",
       "      <td>0.111935</td>\n",
       "      <td>0.025582</td>\n",
       "      <td>0.007080</td>\n",
       "      <td>0.091785</td>\n",
       "      <td>0.035793</td>\n",
       "      <td>0.030485</td>\n",
       "      <td>-0.065299</td>\n",
       "      <td>-0.057384</td>\n",
       "      <td>-0.005010</td>\n",
       "      <td>0.193542</td>\n",
       "      <td>-0.017678</td>\n",
       "      <td>0.111282</td>\n",
       "      <td>-0.017228</td>\n",
       "      <td>0.030954</td>\n",
       "      <td>0.050789</td>\n",
       "    </tr>\n",
       "    <tr>\n",
       "      <th>arrival_date_month</th>\n",
       "      <td>0.001268</td>\n",
       "      <td>0.008573</td>\n",
       "      <td>0.127818</td>\n",
       "      <td>-0.491213</td>\n",
       "      <td>1.000000</td>\n",
       "      <td>0.994852</td>\n",
       "      <td>-0.026792</td>\n",
       "      <td>0.000222</td>\n",
       "      <td>0.013867</td>\n",
       "      <td>0.020514</td>\n",
       "      <td>-0.030665</td>\n",
       "      <td>0.003102</td>\n",
       "      <td>-0.002490</td>\n",
       "      <td>0.006895</td>\n",
       "      <td>-0.013770</td>\n",
       "      <td>0.005842</td>\n",
       "      <td>-0.043188</td>\n",
       "      <td>0.121310</td>\n",
       "      <td>0.005163</td>\n",
       "      <td>0.045114</td>\n",
       "      <td>-0.019068</td>\n",
       "      <td>0.037313</td>\n",
       "      <td>0.047216</td>\n",
       "    </tr>\n",
       "    <tr>\n",
       "      <th>arrival_date_week_number</th>\n",
       "      <td>-0.004423</td>\n",
       "      <td>0.006479</td>\n",
       "      <td>0.126104</td>\n",
       "      <td>-0.540726</td>\n",
       "      <td>0.994852</td>\n",
       "      <td>1.000000</td>\n",
       "      <td>0.064206</td>\n",
       "      <td>-0.015267</td>\n",
       "      <td>-0.000917</td>\n",
       "      <td>0.005999</td>\n",
       "      <td>-0.029043</td>\n",
       "      <td>-0.010504</td>\n",
       "      <td>-0.007890</td>\n",
       "      <td>0.004611</td>\n",
       "      <td>0.002251</td>\n",
       "      <td>0.023749</td>\n",
       "      <td>-0.028746</td>\n",
       "      <td>0.077035</td>\n",
       "      <td>0.003264</td>\n",
       "      <td>0.026228</td>\n",
       "      <td>-0.016978</td>\n",
       "      <td>0.016210</td>\n",
       "      <td>0.025711</td>\n",
       "    </tr>\n",
       "    <tr>\n",
       "      <th>arrival_date_day_of_month</th>\n",
       "      <td>0.002416</td>\n",
       "      <td>-0.006537</td>\n",
       "      <td>0.002054</td>\n",
       "      <td>0.004283</td>\n",
       "      <td>-0.026792</td>\n",
       "      <td>0.064206</td>\n",
       "      <td>1.000000</td>\n",
       "      <td>-0.007447</td>\n",
       "      <td>-0.004199</td>\n",
       "      <td>0.001474</td>\n",
       "      <td>-0.007002</td>\n",
       "      <td>0.016134</td>\n",
       "      <td>0.012058</td>\n",
       "      <td>0.012223</td>\n",
       "      <td>-0.001229</td>\n",
       "      <td>0.021440</td>\n",
       "      <td>0.011833</td>\n",
       "      <td>0.028831</td>\n",
       "      <td>0.010960</td>\n",
       "      <td>0.003720</td>\n",
       "      <td>0.012448</td>\n",
       "      <td>-0.027971</td>\n",
       "      <td>0.005131</td>\n",
       "    </tr>\n",
       "    <tr>\n",
       "      <th>meal</th>\n",
       "      <td>-0.009009</td>\n",
       "      <td>-0.014264</td>\n",
       "      <td>0.004313</td>\n",
       "      <td>0.067755</td>\n",
       "      <td>0.000222</td>\n",
       "      <td>-0.015267</td>\n",
       "      <td>-0.007447</td>\n",
       "      <td>1.000000</td>\n",
       "      <td>0.146540</td>\n",
       "      <td>0.117985</td>\n",
       "      <td>-0.055888</td>\n",
       "      <td>-0.121964</td>\n",
       "      <td>-0.121648</td>\n",
       "      <td>0.019315</td>\n",
       "      <td>-0.090271</td>\n",
       "      <td>-0.007020</td>\n",
       "      <td>0.046316</td>\n",
       "      <td>0.056627</td>\n",
       "      <td>-0.039101</td>\n",
       "      <td>0.024430</td>\n",
       "      <td>0.011251</td>\n",
       "      <td>0.044204</td>\n",
       "      <td>-0.007995</td>\n",
       "    </tr>\n",
       "    <tr>\n",
       "      <th>market_segment</th>\n",
       "      <td>-0.084364</td>\n",
       "      <td>0.057241</td>\n",
       "      <td>0.013143</td>\n",
       "      <td>0.111935</td>\n",
       "      <td>0.013867</td>\n",
       "      <td>-0.000917</td>\n",
       "      <td>-0.004199</td>\n",
       "      <td>0.146540</td>\n",
       "      <td>1.000000</td>\n",
       "      <td>0.767718</td>\n",
       "      <td>-0.246093</td>\n",
       "      <td>0.093214</td>\n",
       "      <td>0.024110</td>\n",
       "      <td>-0.072903</td>\n",
       "      <td>-0.184932</td>\n",
       "      <td>-0.043077</td>\n",
       "      <td>-0.166540</td>\n",
       "      <td>0.231270</td>\n",
       "      <td>-0.061893</td>\n",
       "      <td>0.273916</td>\n",
       "      <td>-0.059299</td>\n",
       "      <td>0.126700</td>\n",
       "      <td>0.212585</td>\n",
       "    </tr>\n",
       "    <tr>\n",
       "      <th>distribution_channel</th>\n",
       "      <td>-0.174473</td>\n",
       "      <td>0.166512</td>\n",
       "      <td>0.220976</td>\n",
       "      <td>0.025582</td>\n",
       "      <td>0.020514</td>\n",
       "      <td>0.005999</td>\n",
       "      <td>0.001474</td>\n",
       "      <td>0.117985</td>\n",
       "      <td>0.767718</td>\n",
       "      <td>1.000000</td>\n",
       "      <td>-0.258141</td>\n",
       "      <td>-0.042541</td>\n",
       "      <td>-0.105705</td>\n",
       "      <td>-0.114324</td>\n",
       "      <td>0.091225</td>\n",
       "      <td>0.048186</td>\n",
       "      <td>-0.068619</td>\n",
       "      <td>0.093562</td>\n",
       "      <td>-0.132287</td>\n",
       "      <td>0.098250</td>\n",
       "      <td>-0.169993</td>\n",
       "      <td>0.100968</td>\n",
       "      <td>0.144714</td>\n",
       "    </tr>\n",
       "    <tr>\n",
       "      <th>is_repeated_guest</th>\n",
       "      <td>0.051430</td>\n",
       "      <td>-0.085456</td>\n",
       "      <td>-0.123915</td>\n",
       "      <td>0.007080</td>\n",
       "      <td>-0.030665</td>\n",
       "      <td>-0.029043</td>\n",
       "      <td>-0.007002</td>\n",
       "      <td>-0.055888</td>\n",
       "      <td>-0.246093</td>\n",
       "      <td>-0.258141</td>\n",
       "      <td>1.000000</td>\n",
       "      <td>-0.027830</td>\n",
       "      <td>0.035079</td>\n",
       "      <td>0.012493</td>\n",
       "      <td>-0.057747</td>\n",
       "      <td>-0.022523</td>\n",
       "      <td>-0.017827</td>\n",
       "      <td>-0.135030</td>\n",
       "      <td>0.075030</td>\n",
       "      <td>0.011924</td>\n",
       "      <td>0.084120</td>\n",
       "      <td>-0.105552</td>\n",
       "      <td>-0.136845</td>\n",
       "    </tr>\n",
       "    <tr>\n",
       "      <th>reserved_room_type</th>\n",
       "      <td>0.246741</td>\n",
       "      <td>-0.059555</td>\n",
       "      <td>-0.107382</td>\n",
       "      <td>0.091785</td>\n",
       "      <td>0.003102</td>\n",
       "      <td>-0.010504</td>\n",
       "      <td>0.016134</td>\n",
       "      <td>-0.121964</td>\n",
       "      <td>0.093214</td>\n",
       "      <td>-0.042541</td>\n",
       "      <td>-0.027830</td>\n",
       "      <td>1.000000</td>\n",
       "      <td>0.812283</td>\n",
       "      <td>0.043183</td>\n",
       "      <td>-0.198719</td>\n",
       "      <td>-0.068090</td>\n",
       "      <td>-0.122740</td>\n",
       "      <td>0.382079</td>\n",
       "      <td>0.130537</td>\n",
       "      <td>0.138199</td>\n",
       "      <td>0.056839</td>\n",
       "      <td>0.177722</td>\n",
       "      <td>0.384168</td>\n",
       "    </tr>\n",
       "    <tr>\n",
       "      <th>assigned_room_type</th>\n",
       "      <td>0.305863</td>\n",
       "      <td>-0.173898</td>\n",
       "      <td>-0.173158</td>\n",
       "      <td>0.035793</td>\n",
       "      <td>-0.002490</td>\n",
       "      <td>-0.007890</td>\n",
       "      <td>0.012058</td>\n",
       "      <td>-0.121648</td>\n",
       "      <td>0.024110</td>\n",
       "      <td>-0.105705</td>\n",
       "      <td>0.035079</td>\n",
       "      <td>0.812283</td>\n",
       "      <td>1.000000</td>\n",
       "      <td>0.095493</td>\n",
       "      <td>-0.240921</td>\n",
       "      <td>-0.068599</td>\n",
       "      <td>-0.086073</td>\n",
       "      <td>0.249941</td>\n",
       "      <td>0.158195</td>\n",
       "      <td>0.125054</td>\n",
       "      <td>0.171143</td>\n",
       "      <td>0.106623</td>\n",
       "      <td>0.301207</td>\n",
       "    </tr>\n",
       "    <tr>\n",
       "      <th>booking_changes</th>\n",
       "      <td>0.070201</td>\n",
       "      <td>-0.140347</td>\n",
       "      <td>0.004114</td>\n",
       "      <td>0.030485</td>\n",
       "      <td>0.006895</td>\n",
       "      <td>0.004611</td>\n",
       "      <td>0.012223</td>\n",
       "      <td>0.019315</td>\n",
       "      <td>-0.072903</td>\n",
       "      <td>-0.114324</td>\n",
       "      <td>0.012493</td>\n",
       "      <td>0.043183</td>\n",
       "      <td>0.095493</td>\n",
       "      <td>1.000000</td>\n",
       "      <td>-0.110863</td>\n",
       "      <td>-0.013262</td>\n",
       "      <td>0.092221</td>\n",
       "      <td>0.018406</td>\n",
       "      <td>0.062419</td>\n",
       "      <td>0.053413</td>\n",
       "      <td>0.137648</td>\n",
       "      <td>0.100446</td>\n",
       "      <td>-0.006804</td>\n",
       "    </tr>\n",
       "    <tr>\n",
       "      <th>deposit_type</th>\n",
       "      <td>-0.155026</td>\n",
       "      <td>0.467354</td>\n",
       "      <td>0.375777</td>\n",
       "      <td>-0.065299</td>\n",
       "      <td>-0.013770</td>\n",
       "      <td>0.002251</td>\n",
       "      <td>-0.001229</td>\n",
       "      <td>-0.090271</td>\n",
       "      <td>-0.184932</td>\n",
       "      <td>0.091225</td>\n",
       "      <td>-0.057747</td>\n",
       "      <td>-0.198719</td>\n",
       "      <td>-0.240921</td>\n",
       "      <td>-0.110863</td>\n",
       "      <td>1.000000</td>\n",
       "      <td>0.121999</td>\n",
       "      <td>-0.072593</td>\n",
       "      <td>-0.086046</td>\n",
       "      <td>-0.089800</td>\n",
       "      <td>-0.266183</td>\n",
       "      <td>-0.464571</td>\n",
       "      <td>-0.100240</td>\n",
       "      <td>-0.078236</td>\n",
       "    </tr>\n",
       "    <tr>\n",
       "      <th>days_in_waiting_list</th>\n",
       "      <td>-0.071502</td>\n",
       "      <td>0.054322</td>\n",
       "      <td>0.170237</td>\n",
       "      <td>-0.057384</td>\n",
       "      <td>0.005842</td>\n",
       "      <td>0.023749</td>\n",
       "      <td>0.021440</td>\n",
       "      <td>-0.007020</td>\n",
       "      <td>-0.043077</td>\n",
       "      <td>0.048186</td>\n",
       "      <td>-0.022523</td>\n",
       "      <td>-0.068090</td>\n",
       "      <td>-0.068599</td>\n",
       "      <td>-0.013262</td>\n",
       "      <td>0.121999</td>\n",
       "      <td>1.000000</td>\n",
       "      <td>0.098976</td>\n",
       "      <td>-0.039634</td>\n",
       "      <td>-0.029488</td>\n",
       "      <td>-0.082515</td>\n",
       "      <td>-0.058119</td>\n",
       "      <td>-0.021316</td>\n",
       "      <td>-0.026106</td>\n",
       "    </tr>\n",
       "    <tr>\n",
       "      <th>customer_type</th>\n",
       "      <td>-0.047622</td>\n",
       "      <td>-0.065687</td>\n",
       "      <td>0.075026</td>\n",
       "      <td>-0.005010</td>\n",
       "      <td>-0.043188</td>\n",
       "      <td>-0.028746</td>\n",
       "      <td>0.011833</td>\n",
       "      <td>0.046316</td>\n",
       "      <td>-0.166540</td>\n",
       "      <td>-0.068619</td>\n",
       "      <td>-0.017827</td>\n",
       "      <td>-0.122740</td>\n",
       "      <td>-0.086073</td>\n",
       "      <td>0.092221</td>\n",
       "      <td>-0.072593</td>\n",
       "      <td>0.098976</td>\n",
       "      <td>1.000000</td>\n",
       "      <td>-0.076453</td>\n",
       "      <td>-0.029671</td>\n",
       "      <td>-0.135601</td>\n",
       "      <td>0.063423</td>\n",
       "      <td>-0.136887</td>\n",
       "      <td>-0.114562</td>\n",
       "    </tr>\n",
       "    <tr>\n",
       "      <th>adr</th>\n",
       "      <td>-0.099411</td>\n",
       "      <td>0.047221</td>\n",
       "      <td>-0.061618</td>\n",
       "      <td>0.193542</td>\n",
       "      <td>0.121310</td>\n",
       "      <td>0.077035</td>\n",
       "      <td>0.028831</td>\n",
       "      <td>0.056627</td>\n",
       "      <td>0.231270</td>\n",
       "      <td>0.093562</td>\n",
       "      <td>-0.135030</td>\n",
       "      <td>0.382079</td>\n",
       "      <td>0.249941</td>\n",
       "      <td>0.018406</td>\n",
       "      <td>-0.086046</td>\n",
       "      <td>-0.039634</td>\n",
       "      <td>-0.076453</td>\n",
       "      <td>1.000000</td>\n",
       "      <td>0.051538</td>\n",
       "      <td>0.166498</td>\n",
       "      <td>-0.050022</td>\n",
       "      <td>0.061648</td>\n",
       "      <td>0.358278</td>\n",
       "    </tr>\n",
       "    <tr>\n",
       "      <th>required_car_parking_spaces</th>\n",
       "      <td>0.216490</td>\n",
       "      <td>-0.194711</td>\n",
       "      <td>-0.116425</td>\n",
       "      <td>-0.017678</td>\n",
       "      <td>0.005163</td>\n",
       "      <td>0.003264</td>\n",
       "      <td>0.010960</td>\n",
       "      <td>-0.039101</td>\n",
       "      <td>-0.061893</td>\n",
       "      <td>-0.132287</td>\n",
       "      <td>0.075030</td>\n",
       "      <td>0.130537</td>\n",
       "      <td>0.158195</td>\n",
       "      <td>0.062419</td>\n",
       "      <td>-0.089800</td>\n",
       "      <td>-0.029488</td>\n",
       "      <td>-0.029671</td>\n",
       "      <td>0.051538</td>\n",
       "      <td>1.000000</td>\n",
       "      <td>0.078700</td>\n",
       "      <td>0.178333</td>\n",
       "      <td>-0.025773</td>\n",
       "      <td>0.046669</td>\n",
       "    </tr>\n",
       "    <tr>\n",
       "      <th>total_of_special_requests</th>\n",
       "      <td>0.042221</td>\n",
       "      <td>-0.237031</td>\n",
       "      <td>-0.095988</td>\n",
       "      <td>0.111282</td>\n",
       "      <td>0.045114</td>\n",
       "      <td>0.026228</td>\n",
       "      <td>0.003720</td>\n",
       "      <td>0.024430</td>\n",
       "      <td>0.273916</td>\n",
       "      <td>0.098250</td>\n",
       "      <td>0.011924</td>\n",
       "      <td>0.138199</td>\n",
       "      <td>0.125054</td>\n",
       "      <td>0.053413</td>\n",
       "      <td>-0.266183</td>\n",
       "      <td>-0.082515</td>\n",
       "      <td>-0.135601</td>\n",
       "      <td>0.166498</td>\n",
       "      <td>0.078700</td>\n",
       "      <td>1.000000</td>\n",
       "      <td>0.226460</td>\n",
       "      <td>0.075344</td>\n",
       "      <td>0.156164</td>\n",
       "    </tr>\n",
       "    <tr>\n",
       "      <th>reservation_status</th>\n",
       "      <td>0.123520</td>\n",
       "      <td>-0.915883</td>\n",
       "      <td>-0.302591</td>\n",
       "      <td>-0.017228</td>\n",
       "      <td>-0.019068</td>\n",
       "      <td>-0.016978</td>\n",
       "      <td>0.012448</td>\n",
       "      <td>0.011251</td>\n",
       "      <td>-0.059299</td>\n",
       "      <td>-0.169993</td>\n",
       "      <td>0.084120</td>\n",
       "      <td>0.056839</td>\n",
       "      <td>0.171143</td>\n",
       "      <td>0.137648</td>\n",
       "      <td>-0.464571</td>\n",
       "      <td>-0.058119</td>\n",
       "      <td>0.063423</td>\n",
       "      <td>-0.050022</td>\n",
       "      <td>0.178333</td>\n",
       "      <td>0.226460</td>\n",
       "      <td>1.000000</td>\n",
       "      <td>-0.014246</td>\n",
       "      <td>-0.057639</td>\n",
       "    </tr>\n",
       "    <tr>\n",
       "      <th>total_days</th>\n",
       "      <td>0.242948</td>\n",
       "      <td>0.021257</td>\n",
       "      <td>0.157373</td>\n",
       "      <td>0.030954</td>\n",
       "      <td>0.037313</td>\n",
       "      <td>0.016210</td>\n",
       "      <td>-0.027971</td>\n",
       "      <td>0.044204</td>\n",
       "      <td>0.126700</td>\n",
       "      <td>0.100968</td>\n",
       "      <td>-0.105552</td>\n",
       "      <td>0.177722</td>\n",
       "      <td>0.106623</td>\n",
       "      <td>0.100446</td>\n",
       "      <td>-0.100240</td>\n",
       "      <td>-0.021316</td>\n",
       "      <td>-0.136887</td>\n",
       "      <td>0.061648</td>\n",
       "      <td>-0.025773</td>\n",
       "      <td>0.075344</td>\n",
       "      <td>-0.014246</td>\n",
       "      <td>1.000000</td>\n",
       "      <td>0.112017</td>\n",
       "    </tr>\n",
       "    <tr>\n",
       "      <th>total_customers</th>\n",
       "      <td>0.040640</td>\n",
       "      <td>0.048319</td>\n",
       "      <td>0.073295</td>\n",
       "      <td>0.050789</td>\n",
       "      <td>0.047216</td>\n",
       "      <td>0.025711</td>\n",
       "      <td>0.005131</td>\n",
       "      <td>-0.007995</td>\n",
       "      <td>0.212585</td>\n",
       "      <td>0.144714</td>\n",
       "      <td>-0.136845</td>\n",
       "      <td>0.384168</td>\n",
       "      <td>0.301207</td>\n",
       "      <td>-0.006804</td>\n",
       "      <td>-0.078236</td>\n",
       "      <td>-0.026106</td>\n",
       "      <td>-0.114562</td>\n",
       "      <td>0.358278</td>\n",
       "      <td>0.046669</td>\n",
       "      <td>0.156164</td>\n",
       "      <td>-0.057639</td>\n",
       "      <td>0.112017</td>\n",
       "      <td>1.000000</td>\n",
       "    </tr>\n",
       "  </tbody>\n",
       "</table>\n",
       "</div>"
      ],
      "text/plain": [
       "                                hotel  is_canceled  ...  total_days  total_customers\n",
       "hotel                        1.000000    -0.135266  ...    0.242948         0.040640\n",
       "is_canceled                 -0.135266     1.000000  ...    0.021257         0.048319\n",
       "lead_time                   -0.075241     0.293248  ...    0.157373         0.073295\n",
       "arrival_date_year           -0.035946     0.017205  ...    0.030954         0.050789\n",
       "arrival_date_month           0.001268     0.008573  ...    0.037313         0.047216\n",
       "arrival_date_week_number    -0.004423     0.006479  ...    0.016210         0.025711\n",
       "arrival_date_day_of_month    0.002416    -0.006537  ...   -0.027971         0.005131\n",
       "meal                        -0.009009    -0.014264  ...    0.044204        -0.007995\n",
       "market_segment              -0.084364     0.057241  ...    0.126700         0.212585\n",
       "distribution_channel        -0.174473     0.166512  ...    0.100968         0.144714\n",
       "is_repeated_guest            0.051430    -0.085456  ...   -0.105552        -0.136845\n",
       "reserved_room_type           0.246741    -0.059555  ...    0.177722         0.384168\n",
       "assigned_room_type           0.305863    -0.173898  ...    0.106623         0.301207\n",
       "booking_changes              0.070201    -0.140347  ...    0.100446        -0.006804\n",
       "deposit_type                -0.155026     0.467354  ...   -0.100240        -0.078236\n",
       "days_in_waiting_list        -0.071502     0.054322  ...   -0.021316        -0.026106\n",
       "customer_type               -0.047622    -0.065687  ...   -0.136887        -0.114562\n",
       "adr                         -0.099411     0.047221  ...    0.061648         0.358278\n",
       "required_car_parking_spaces  0.216490    -0.194711  ...   -0.025773         0.046669\n",
       "total_of_special_requests    0.042221    -0.237031  ...    0.075344         0.156164\n",
       "reservation_status           0.123520    -0.915883  ...   -0.014246        -0.057639\n",
       "total_days                   0.242948     0.021257  ...    1.000000         0.112017\n",
       "total_customers              0.040640     0.048319  ...    0.112017         1.000000\n",
       "\n",
       "[23 rows x 23 columns]"
      ]
     },
     "execution_count": 343,
     "metadata": {
      "tags": []
     },
     "output_type": "execute_result"
    }
   ],
   "source": [
    "train.corr()"
   ]
  },
  {
   "cell_type": "markdown",
   "metadata": {
    "colab_type": "text",
    "id": "nHFCZZkfzciE"
   },
   "source": [
    "Correlation between each and other features goes from -1 to 1. Being 1 the complete correlation."
   ]
  },
  {
   "cell_type": "markdown",
   "metadata": {
    "colab_type": "text",
    "id": "bx2wuc6UyT0p"
   },
   "source": [
    "Other method for correlation."
   ]
  },
  {
   "cell_type": "code",
   "execution_count": 344,
   "metadata": {
    "colab": {
     "base_uri": "https://localhost:8080/",
     "height": 432
    },
    "colab_type": "code",
    "id": "jAw99JQsXt2a",
    "outputId": "942dbed3-0827-42d6-96c3-c01cac01bfe8"
   },
   "outputs": [
    {
     "data": {
      "text/plain": [
       "reservation_status            -0.464571\n",
       "total_of_special_requests     -0.266183\n",
       "assigned_room_type            -0.240921\n",
       "reserved_room_type            -0.198719\n",
       "market_segment                -0.184932\n",
       "hotel                         -0.155026\n",
       "booking_changes               -0.110863\n",
       "total_days                    -0.100240\n",
       "meal                          -0.090271\n",
       "required_car_parking_spaces   -0.089800\n",
       "adr                           -0.086046\n",
       "total_customers               -0.078236\n",
       "customer_type                 -0.072593\n",
       "arrival_date_year             -0.065299\n",
       "is_repeated_guest             -0.057747\n",
       "arrival_date_month            -0.013770\n",
       "arrival_date_day_of_month     -0.001229\n",
       "arrival_date_week_number       0.002251\n",
       "distribution_channel           0.091225\n",
       "days_in_waiting_list           0.121999\n",
       "lead_time                      0.375777\n",
       "is_canceled                    0.467354\n",
       "deposit_type                   1.000000\n",
       "Name: deposit_type, dtype: float64"
      ]
     },
     "execution_count": 344,
     "metadata": {
      "tags": []
     },
     "output_type": "execute_result"
    }
   ],
   "source": [
    "feat_corr = train.corr()\n",
    "feat_corr['deposit_type'].sort_values()"
   ]
  },
  {
   "cell_type": "code",
   "execution_count": 345,
   "metadata": {
    "colab": {
     "base_uri": "https://localhost:8080/",
     "height": 548
    },
    "colab_type": "code",
    "id": "Otqe8-vwyTqi",
    "outputId": "48b5157d-9517-4e8f-9bfa-82edcc4f96ad"
   },
   "outputs": [
    {
     "data": {
      "text/plain": [
       "<matplotlib.axes._subplots.AxesSubplot at 0x7f3fc28e9940>"
      ]
     },
     "execution_count": 345,
     "metadata": {
      "tags": []
     },
     "output_type": "execute_result"
    },
    {
     "data": {
      "image/png": "[encoded data removed]",
      "text/plain": [
       "<Figure size 576x432 with 2 Axes>"
      ]
     },
     "metadata": {
      "tags": []
     },
     "output_type": "display_data"
    }
   ],
   "source": [
    "\n",
    "plt.figure(figsize=(8,6))\n",
    "sns.heatmap(feat_corr)"
   ]
  },
  {
   "cell_type": "markdown",
   "metadata": {
    "colab_type": "text",
    "id": "1wKjcnLYXt5q"
   },
   "source": [
    "The diagonal shows correlation of each feature with itself, hence indicates highest correlation. Using the table and plot we observe that few features have veryhigh correlation Ex:-\n",
    "\n",
    "Arrival_date_year and arrival_date_month = -0.52\n",
    "Reservation_status and deposit type = -0.46\n",
    "market_segment vs distribution_channel = 0.76\n",
    "reserved_room_type vs assigned_room_type = 0.81\n",
    "It is advisable to remove one of the features from the high correlation pair, but we will retain them and see the effect on performance"
   ]
  },
  {
   "cell_type": "code",
   "execution_count": 346,
   "metadata": {
    "colab": {
     "base_uri": "https://localhost:8080/",
     "height": 432
    },
    "colab_type": "code",
    "id": "9QnIUuypyTvt",
    "outputId": "31a78ce3-f932-4a2c-8a1f-ba58d5623bee"
   },
   "outputs": [
    {
     "data": {
      "text/plain": [
       "reservation_status            -0.915883\n",
       "total_of_special_requests     -0.237031\n",
       "required_car_parking_spaces   -0.194711\n",
       "assigned_room_type            -0.173898\n",
       "booking_changes               -0.140347\n",
       "hotel                         -0.135266\n",
       "is_repeated_guest             -0.085456\n",
       "customer_type                 -0.065687\n",
       "reserved_room_type            -0.059555\n",
       "meal                          -0.014264\n",
       "arrival_date_day_of_month     -0.006537\n",
       "arrival_date_week_number       0.006479\n",
       "arrival_date_month             0.008573\n",
       "arrival_date_year              0.017205\n",
       "total_days                     0.021257\n",
       "adr                            0.047221\n",
       "total_customers                0.048319\n",
       "days_in_waiting_list           0.054322\n",
       "market_segment                 0.057241\n",
       "distribution_channel           0.166512\n",
       "lead_time                      0.293248\n",
       "deposit_type                   0.467354\n",
       "is_canceled                    1.000000\n",
       "Name: is_canceled, dtype: float64"
      ]
     },
     "execution_count": 346,
     "metadata": {
      "tags": []
     },
     "output_type": "execute_result"
    }
   ],
   "source": [
    "feat_corr['is_canceled'].sort_values()"
   ]
  },
  {
   "cell_type": "markdown",
   "metadata": {
    "colab_type": "text",
    "id": "q3O53XZjrvw3"
   },
   "source": [
    "The reservation_status has high correlation with is_canceled. For iteration 1, lets retain the feature."
   ]
  },
  {
   "cell_type": "markdown",
   "metadata": {
    "colab_type": "text",
    "id": "OY8s4jeZr5R5"
   },
   "source": [
    "## Implementing Bernoulli NB\n",
    "Bernoulli NB classifier works on discrete data with Binary or boolean features. sklearn documentation<BR/>\n",
    "\n",
    "### Data discretization\n",
    "Convert continuous features to categorical features"
   ]
  },
  {
   "cell_type": "code",
   "execution_count": 0,
   "metadata": {
    "colab": {},
    "colab_type": "code",
    "id": "x_TfOVgnqxrr"
   },
   "outputs": [],
   "source": [
    "train = backup_train.copy()\n",
    "test = backup_test.copy()"
   ]
  },
  {
   "cell_type": "code",
   "execution_count": 348,
   "metadata": {
    "colab": {
     "base_uri": "https://localhost:8080/",
     "height": 259
    },
    "colab_type": "code",
    "id": "tpOQXMhqqyMS",
    "outputId": "8415b7bd-f3ae-4298-976a-e409c6460e27"
   },
   "outputs": [
    {
     "data": {
      "text/plain": [
       "is_canceled                      int64\n",
       "lead_time                        int64\n",
       "arrival_date_year                int64\n",
       "arrival_date_week_number         int64\n",
       "arrival_date_day_of_month        int64\n",
       "is_repeated_guest                int64\n",
       "booking_changes                  int64\n",
       "days_in_waiting_list             int64\n",
       "adr                            float64\n",
       "required_car_parking_spaces      int64\n",
       "total_of_special_requests        int64\n",
       "total_days                       int64\n",
       "total_customers                float64\n",
       "dtype: object"
      ]
     },
     "execution_count": 348,
     "metadata": {
      "tags": []
     },
     "output_type": "execute_result"
    }
   ],
   "source": [
    "train.select_dtypes(include=[np.number]).dtypes"
   ]
  },
  {
   "cell_type": "markdown",
   "metadata": {
    "colab_type": "text",
    "id": "CDJ0IVrYtDmS"
   },
   "source": [
    "### We will discretize the following continuous features\n",
    "lead_time - Use quantile<BR/>\n",
    "arrival_date_week_number - Use Custom bin size<BR/>\n",
    "days_in_waiting_list - Drop the column<BR/>\n",
    "adr - Use Quantile<BR/>\n",
    "required_car_parking_spaces - 0 or more<BR/>\n",
    "total_of_special_requests - Cap the feature to 3 requests<BR/>\n",
    "total_customers - Cap the feature to 4 customers<BR/>\n",
    "total_days - Use quantile"
   ]
  },
  {
   "cell_type": "code",
   "execution_count": 349,
   "metadata": {
    "colab": {
     "base_uri": "https://localhost:8080/",
     "height": 339
    },
    "colab_type": "code",
    "id": "iIKQcvE6qysR",
    "outputId": "dac076d1-b372-4d52-e27b-08943ffb7045"
   },
   "outputs": [
    {
     "data": {
      "image/png": "[encoded data removed]",
      "text/plain": [
       "<Figure size 360x360 with 1 Axes>"
      ]
     },
     "metadata": {
      "tags": []
     },
     "output_type": "display_data"
    }
   ],
   "source": [
    "sns.set(rc={\"figure.figsize\": (5, 5)})\n",
    "ax = sns.distplot(train['lead_time'], bins=100, color='r')"
   ]
  },
  {
   "cell_type": "code",
   "execution_count": 0,
   "metadata": {
    "colab": {},
    "colab_type": "code",
    "id": "SiEiCTHPXsJJ"
   },
   "outputs": [],
   "source": [
    "train['lead_time_q'], bins = pd.qcut(train['lead_time'], q=4,labels=False, retbins=True)\n",
    "train=train.drop('lead_time',axis=1)\n",
    "test['lead_time_q']=pd.cut(test['lead_time'], bins=bins,labels=False,precision=0)\n",
    "test=test.drop('lead_time',axis=1)"
   ]
  },
  {
   "cell_type": "code",
   "execution_count": 351,
   "metadata": {
    "colab": {
     "base_uri": "https://localhost:8080/",
     "height": 198
    },
    "colab_type": "code",
    "id": "Vdpjxc7pyfhD",
    "outputId": "e4819322-0d2d-4d52-c082-075b8ab84a82"
   },
   "outputs": [
    {
     "data": {
      "text/html": [
       "<div>\n",
       "<style scoped>\n",
       "    .dataframe tbody tr th:only-of-type {\n",
       "        vertical-align: middle;\n",
       "    }\n",
       "\n",
       "    .dataframe tbody tr th {\n",
       "        vertical-align: top;\n",
       "    }\n",
       "\n",
       "    .dataframe thead th {\n",
       "        text-align: right;\n",
       "    }\n",
       "</style>\n",
       "<table border=\"1\" class=\"dataframe\">\n",
       "  <thead>\n",
       "    <tr style=\"text-align: right;\">\n",
       "      <th></th>\n",
       "      <th>lead_time_q</th>\n",
       "    </tr>\n",
       "  </thead>\n",
       "  <tbody>\n",
       "    <tr>\n",
       "      <th>9710</th>\n",
       "      <td>2</td>\n",
       "    </tr>\n",
       "    <tr>\n",
       "      <th>40307</th>\n",
       "      <td>1</td>\n",
       "    </tr>\n",
       "    <tr>\n",
       "      <th>110051</th>\n",
       "      <td>2</td>\n",
       "    </tr>\n",
       "    <tr>\n",
       "      <th>22999</th>\n",
       "      <td>0</td>\n",
       "    </tr>\n",
       "    <tr>\n",
       "      <th>8344</th>\n",
       "      <td>1</td>\n",
       "    </tr>\n",
       "  </tbody>\n",
       "</table>\n",
       "</div>"
      ],
      "text/plain": [
       "        lead_time_q\n",
       "9710              2\n",
       "40307             1\n",
       "110051            2\n",
       "22999             0\n",
       "8344              1"
      ]
     },
     "execution_count": 351,
     "metadata": {
      "tags": []
     },
     "output_type": "execute_result"
    }
   ],
   "source": [
    "train[['lead_time_q']][:5]"
   ]
  },
  {
   "cell_type": "code",
   "execution_count": 352,
   "metadata": {
    "colab": {
     "base_uri": "https://localhost:8080/",
     "height": 373
    },
    "colab_type": "code",
    "id": "X2F-_mJqyf1b",
    "outputId": "dc0f9753-c7ab-4d51-9229-ba9a80f546a5"
   },
   "outputs": [
    {
     "data": {
      "text/plain": [
       "array([<matplotlib.axes._subplots.AxesSubplot object at 0x7f3fc25d8080>],\n",
       "      dtype=object)"
      ]
     },
     "execution_count": 352,
     "metadata": {
      "tags": []
     },
     "output_type": "execute_result"
    },
    {
     "data": {
      "image/png": "[encoded data removed]",
      "text/plain": [
       "<Figure size 1080x360 with 2 Axes>"
      ]
     },
     "metadata": {
      "tags": []
     },
     "output_type": "display_data"
    }
   ],
   "source": [
    "train_0=train[(train['is_canceled']==0)]\n",
    "train_1=train[train['is_canceled']==1]\n",
    "fig, axes = plt.subplots(1,2,figsize=(15,5))\n",
    "train_0.hist(column='arrival_date_week_number',bins=52,ax=axes[0])\n",
    "train_1.hist(column='arrival_date_week_number', bins=52,ax=axes[1])\n"
   ]
  },
  {
   "cell_type": "code",
   "execution_count": 0,
   "metadata": {
    "colab": {},
    "colab_type": "code",
    "id": "n-OWbqxpzwF7"
   },
   "outputs": [],
   "source": [
    "bins = [1,13,26,39,53]\n",
    "train['arrival_date_week_number_q'] = pd.cut(train['arrival_date_week_number'], bins=bins,labels=False)\n",
    "train=train.drop('arrival_date_week_number',axis=1)\n",
    "test['arrival_date_week_number_q']=pd.cut(test['arrival_date_week_number'], bins=bins,labels=False)\n",
    "test=test.drop('arrival_date_week_number',axis=1)"
   ]
  },
  {
   "cell_type": "code",
   "execution_count": 354,
   "metadata": {
    "colab": {
     "base_uri": "https://localhost:8080/",
     "height": 373
    },
    "colab_type": "code",
    "id": "SHEu_36ayf4o",
    "outputId": "adb83940-e485-46ee-b212-5fc5d059934e"
   },
   "outputs": [
    {
     "data": {
      "text/plain": [
       "array([<matplotlib.axes._subplots.AxesSubplot object at 0x7f3fc2412048>],\n",
       "      dtype=object)"
      ]
     },
     "execution_count": 354,
     "metadata": {
      "tags": []
     },
     "output_type": "execute_result"
    },
    {
     "data": {
      "image/png": "[encoded data removed]",
      "text/plain": [
       "<Figure size 1080x360 with 2 Axes>"
      ]
     },
     "metadata": {
      "tags": []
     },
     "output_type": "display_data"
    }
   ],
   "source": [
    "train_O=train[(train['is_canceled']==0)]\n",
    "train_1=train[train['is_canceled']==1]\n",
    "fig, axes = plt.subplots(1,2, figsize=(15,5))\n",
    "train_0.hist(column='days_in_waiting_list',bins=100,ax=axes[0])\n",
    "train_1.hist(column='days_in_waiting_list',bins=100,ax=axes[1])"
   ]
  },
  {
   "cell_type": "code",
   "execution_count": 0,
   "metadata": {
    "colab": {},
    "colab_type": "code",
    "id": "Q0zedGY4yf8K"
   },
   "outputs": [],
   "source": [
    "train=train.drop('days_in_waiting_list',axis=1)\n",
    "test=test.drop('days_in_waiting_list',axis=1)"
   ]
  },
  {
   "cell_type": "code",
   "execution_count": 356,
   "metadata": {
    "colab": {
     "base_uri": "https://localhost:8080/",
     "height": 562
    },
    "colab_type": "code",
    "id": "DQeuG0pLwj1t",
    "outputId": "4b4a276a-c6ab-4b8f-dbcf-e36a11ea659c"
   },
   "outputs": [
    {
     "data": {
      "image/png": "[encoded data removed]",
      "text/plain": [
       "<Figure size 1440x1440 with 2 Axes>"
      ]
     },
     "metadata": {
      "tags": []
     },
     "output_type": "display_data"
    }
   ],
   "source": [
    "train_0=train[(train['is_canceled']==0)]\n",
    "train_1=train[train['is_canceled']==1]\n",
    "sns.set(rc={\"figure.figsize\": (20,20)})\n",
    "subplot(2,2,1)\n",
    "ax = sns.distplot(train_0['adr'], bins=100, color='r')\n",
    "subplot(2,2,2)\n",
    "ax=sns.distplot(train_1['adr'],  bins=100, color='g')"
   ]
  },
  {
   "cell_type": "code",
   "execution_count": 0,
   "metadata": {
    "colab": {},
    "colab_type": "code",
    "id": "yv7ApTg0wkDF"
   },
   "outputs": [],
   "source": [
    "train['adr_q'], bins = pd.qcut(train['adr'], q=4,labels=False, retbins=True)\n",
    "train=train.drop('adr', axis=1)\n",
    "test['adr_q']=pd.cut(test['adr'], bins=bins, labels=False, precision=0)\n",
    "test=test.drop('adr', axis=1)\n"
   ]
  },
  {
   "cell_type": "code",
   "execution_count": 358,
   "metadata": {
    "colab": {
     "base_uri": "https://localhost:8080/",
     "height": 373
    },
    "colab_type": "code",
    "id": "y9OSuAi6wkJC",
    "outputId": "af65fa46-c77d-45ed-e802-19da896d473b"
   },
   "outputs": [
    {
     "data": {
      "text/plain": [
       "array([<matplotlib.axes._subplots.AxesSubplot object at 0x7f3fc3206a58>],\n",
       "      dtype=object)"
      ]
     },
     "execution_count": 358,
     "metadata": {
      "tags": []
     },
     "output_type": "execute_result"
    },
    {
     "data": {
      "image/png": "[encoded data removed]",
      "text/plain": [
       "<Figure size 1080x360 with 2 Axes>"
      ]
     },
     "metadata": {
      "tags": []
     },
     "output_type": "display_data"
    }
   ],
   "source": [
    "train_0=train[(train['is_canceled']==0)]\n",
    "train_1=train[train['is_canceled']==1]\n",
    "fig, axes = plt.subplots(1, 2,figsize=(15,5))\n",
    "train_0.hist(column='required_car_parking_spaces',bins=20,ax=axes[0])\n",
    "train_1.hist(column='required_car_parking_spaces',bins=20,ax=axes[1])"
   ]
  },
  {
   "cell_type": "code",
   "execution_count": 359,
   "metadata": {
    "colab": {
     "base_uri": "https://localhost:8080/",
     "height": 373
    },
    "colab_type": "code",
    "id": "r1u7gUbKAU5p",
    "outputId": "cb542f60-c086-428c-d53d-29077622b7e3"
   },
   "outputs": [
    {
     "data": {
      "text/plain": [
       "array([<matplotlib.axes._subplots.AxesSubplot object at 0x7f3fc2c15668>],\n",
       "      dtype=object)"
      ]
     },
     "execution_count": 359,
     "metadata": {
      "tags": []
     },
     "output_type": "execute_result"
    },
    {
     "data": {
      "image/png": "[encoded data removed]",
      "text/plain": [
       "<Figure size 1080x360 with 2 Axes>"
      ]
     },
     "metadata": {
      "tags": []
     },
     "output_type": "display_data"
    }
   ],
   "source": [
    "train_0=train[(train['is_canceled']==0)]\n",
    "train_1=train[train['is_canceled']==1]\n",
    "fig, axes = plt.subplots(1, 2,figsize=(15,5))\n",
    "train_0.hist(column='total_of_special_requests',bins=20,ax=axes[0])\n",
    "train_1.hist(column='total_of_special_requests',bins=20,ax=axes[1])"
   ]
  },
  {
   "cell_type": "code",
   "execution_count": 0,
   "metadata": {
    "colab": {},
    "colab_type": "code",
    "id": "CHRa90vdAbPy"
   },
   "outputs": [],
   "source": [
    "# train['total_of_special_requests'][train['total_of_special_requests'] >= 3] = 3\n",
    "# test['total_of_special_requests'][test['total_of_special_requests'] >= 3] = 3"
   ]
  },
  {
   "cell_type": "code",
   "execution_count": 0,
   "metadata": {
    "colab": {},
    "colab_type": "code",
    "id": "bGlxSQyWAboQ"
   },
   "outputs": [],
   "source": [
    "# train['total_days_q'], bins = pd.qcut(train['total_days'], q=4,labels=False, retbins=True)\n",
    "# train=train.drop('total_days',axis=1)\n",
    "# test['total_days_q']=pd.cut(test['total_days'], bins=bins,labels=False,precision=0)\n",
    "# test=test.drop('total_days',axis=1)"
   ]
  },
  {
   "cell_type": "code",
   "execution_count": 0,
   "metadata": {
    "colab": {},
    "colab_type": "code",
    "id": "M_qPOwOVAbxU"
   },
   "outputs": [],
   "source": [
    "# train_0=train[(train['is_canceled']==0)]\n",
    "# train_1=train[train['is_canceled']==1]\n",
    "# fig, axes = plt.subplots(1, 2,figsize=(15,5))\n",
    "# train_0['total_customers'].value_counts().plot('bar',ax=axes[0])\n",
    "# train_1['total_customers'].value_counts().plot('bar',ax=axes[1])"
   ]
  },
  {
   "cell_type": "code",
   "execution_count": 0,
   "metadata": {
    "colab": {},
    "colab_type": "code",
    "id": "IAMqOS9oAb5N"
   },
   "outputs": [],
   "source": [
    "# train['total_customers'][train['total_customers'] >= 4] = 4\n",
    "# train['total_customers'][train['total_customers'] <= 0] = 1\n",
    "\n",
    "# test['total_customers'][test['total_customers'] >= 4] = 4\n",
    "# test['total_customers'][test['total_customers'] <= 1] = 1"
   ]
  },
  {
   "cell_type": "code",
   "execution_count": 0,
   "metadata": {
    "colab": {},
    "colab_type": "code",
    "id": "YOY9xIKWAcAu"
   },
   "outputs": [],
   "source": [
    "# train_0=train[(train['is_canceled']==0)]\n",
    "# train_1=train[train['is_canceled']==1]\n",
    "# fig, axes = plt.subplots(1, 2,figsize=(15,5))\n",
    "# train_0['arrival_date_day_of_month'].value_counts().plot('bar',ax=axes[0])\n",
    "# train_1['arrival_date_day_of_month'].value_counts().plot('bar',ax=axes[1])"
   ]
  },
  {
   "cell_type": "code",
   "execution_count": 0,
   "metadata": {
    "colab": {},
    "colab_type": "code",
    "id": "nBoSYW5wAcTB"
   },
   "outputs": [],
   "source": [
    "# train['arrival_date_day_of_month_q'], bins = pd.qcut(train['arrival_date_day_of_month'], q=4,labels=False, retbins=True)\n",
    "# train=train.drop('arrival_date_day_of_month',axis=1)\n",
    "# test['arrival_date_day_of_month_q']=pd.cut(test['arrival_date_day_of_month'], bins=bins,labels=False,precision=0)\n",
    "# test=test.drop('arrival_date_day_of_month',axis=1)"
   ]
  },
  {
   "cell_type": "code",
   "execution_count": 0,
   "metadata": {
    "colab": {},
    "colab_type": "code",
    "id": "u9Rr5sL-AcWL"
   },
   "outputs": [],
   "source": [
    "# train"
   ]
  },
  {
   "cell_type": "code",
   "execution_count": 0,
   "metadata": {
    "colab": {},
    "colab_type": "code",
    "id": "S4FDjAiMBVLY"
   },
   "outputs": [],
   "source": [
    "# train.columns"
   ]
  },
  {
   "cell_type": "markdown",
   "metadata": {
    "colab_type": "text",
    "id": "w2g7CMNPB1WA"
   },
   "source": [
    "Model 1"
   ]
  },
  {
   "cell_type": "code",
   "execution_count": 0,
   "metadata": {
    "colab": {},
    "colab_type": "code",
    "id": "-QhWPvYtBVe0"
   },
   "outputs": [],
   "source": [
    "# y_train = train[\"is_canceled\"]\n",
    "# X_train = train.drop([\"is_canceled\"], axis=1)\n",
    "# y_test = test[\"is_canceled\"]\n",
    "# X_test = test.drop([\"is_canceled\"], axis=1)"
   ]
  },
  {
   "cell_type": "code",
   "execution_count": 0,
   "metadata": {
    "colab": {},
    "colab_type": "code",
    "id": "hpcCHfg8BVks"
   },
   "outputs": [],
   "source": [
    "# X_train_enc = pd.get_dummies(data=X_train,columns=X_train.columns)\n",
    "# X_test_enc = pd.get_dummies(data=X_test,columns=X_test.columns)\n",
    "# X_train_enc,X_test_enc =X_train_enc.align(X_test_enc, join='left', axis=1)\n",
    "# X_test_enc=X_test_enc.fillna(0)"
   ]
  },
  {
   "cell_type": "code",
   "execution_count": 0,
   "metadata": {
    "colab": {},
    "colab_type": "code",
    "id": "F0Ko6gMZBVsD"
   },
   "outputs": [],
   "source": [
    "# X_train_enc[:5]"
   ]
  },
  {
   "cell_type": "code",
   "execution_count": 0,
   "metadata": {
    "colab": {},
    "colab_type": "code",
    "id": "XZfaWkLSBVx4"
   },
   "outputs": [],
   "source": [
    "# clf_bern1 = BernoulliNB()\n",
    "# clf_bern1.fit(X_train_enc, y_train)"
   ]
  },
  {
   "cell_type": "markdown",
   "metadata": {
    "colab_type": "text",
    "id": "qsdVbP3xAccO"
   },
   "source": [
    "## Parameters\n",
    "Alpha - Smoothing parameter<BR/>\n",
    "Binarize - Threshold for binarizing (mapping to booleans) of sample features<BR/>\n",
    "Fit_prior - Learn class prior probabilities from data or using user provided priors<BR/>\n",
    "Class_prior - Prior probabilities of the classes. If specified the priors are not adjusted according to the data<BR/>\n",
    "## Evaluation metric\n",
    "Precision and Recall<BR/>\n",
    "Confusion Matrix<BR/>\n",
    "\n"
   ]
  },
  {
   "cell_type": "code",
   "execution_count": 0,
   "metadata": {
    "colab": {},
    "colab_type": "code",
    "id": "jKCQjrAmAcZZ"
   },
   "outputs": [],
   "source": [
    "# y_pred_bern1 = clf_bern1.predict(X_test_enc)\n",
    "# y_prob_bern1=clf_bern1.predict_proba(X_test_enc)"
   ]
  },
  {
   "cell_type": "code",
   "execution_count": 0,
   "metadata": {
    "colab": {},
    "colab_type": "code",
    "id": "0QPYMVA3AVYH"
   },
   "outputs": [],
   "source": [
    "# y_pred_bern1[:10]"
   ]
  },
  {
   "cell_type": "code",
   "execution_count": 0,
   "metadata": {
    "colab": {},
    "colab_type": "code",
    "id": "j0TQYpVwAVl8"
   },
   "outputs": [],
   "source": [
    "# y_prob_bern1[:10]"
   ]
  },
  {
   "cell_type": "code",
   "execution_count": 0,
   "metadata": {
    "colab": {},
    "colab_type": "code",
    "id": "NWJLQT49AVqp"
   },
   "outputs": [],
   "source": [
    "# print('test-set confusion matrix:\\n', confusion_matrix(y_test,y_pred_bern1)) \n",
    "# print(\"recall score: \", recall_score(y_test,y_pred_bern1))\n",
    "# print(\"precision score: \", precision_score(y_test,y_pred_bern1))\n",
    "# print(\"f1 score: \", f1_score(y_test,y_pred_bern1))\n",
    "# # print(\"accuracy score: \", accuracy_score(y_test,y_pred_bern1))"
   ]
  },
  {
   "cell_type": "markdown",
   "metadata": {
    "colab_type": "text",
    "id": "-JLZ-zmwJg_Z"
   },
   "source": [
    "## Model 2\n",
    "Remove the feature that is highly correlated with target feature.<BR/>\n",
    "Reservation_status has high correlation with is_canceled.Looking at the values in column reveals that canceled is a reservation type.This might be causing data leak. Hence we will delete this feature."
   ]
  },
  {
   "cell_type": "code",
   "execution_count": 0,
   "metadata": {
    "colab": {},
    "colab_type": "code",
    "id": "QbLG9sccAVbR"
   },
   "outputs": [],
   "source": [
    "# backup_train['reservation_status'].unique("
   ]
  },
  {
   "cell_type": "code",
   "execution_count": 0,
   "metadata": {
    "colab": {},
    "colab_type": "code",
    "id": "miGOfLBCJgs0"
   },
   "outputs": [],
   "source": [
    "# X_train = X_train.drop('reservation_status',axis=1)\n",
    "# X_test = X_test.drop('reservation_status',axis=1)"
   ]
  },
  {
   "cell_type": "code",
   "execution_count": 0,
   "metadata": {
    "colab": {},
    "colab_type": "code",
    "id": "-5op9WdnJgyU"
   },
   "outputs": [],
   "source": [
    "# X_train_enc = pd.get_dummies(data=X_train,columns=X_train.columns)\n",
    "# X_test_enc = pd.get_dummies(data=X_test,columns=X_test.columns)\n",
    "# X_train_enc,X_test_enc =X_train_enc.align(X_test_enc, join='left', axis=1)\n",
    "# # X_test_enc=X_test_enc.fillna(0)"
   ]
  },
  {
   "cell_type": "code",
   "execution_count": 0,
   "metadata": {
    "colab": {},
    "colab_type": "code",
    "id": "B0igznJ3Jg6j"
   },
   "outputs": [],
   "source": [
    "# clf_bern2 = BernoulliNB()\n",
    "# clf_bern2.fit(X_train_enc, y_train)\n",
    "# y_pred_bern2 = clf_bern2.predict(X_test_enc)\n",
    "# y_prob_bern2=clf_bern2.predict_proba(X_test_enc)\n",
    "# print('test-set confusion matrix:\\n', confusion_matrix(y_test,y_pred_bern2)) \n",
    "# print(\"recall score: \", recall_score(y_test,y_pred_bern2))\n",
    "# print(\"precision score: \", precision_score(y_test,y_pred_bern2))\n",
    "# print(\"f1 score: \", f1_score(y_test,y_pred_bern2))\n",
    "# # print(\"accuracy score: \", accuracy_score(y_test,y_pred_bern2))"
   ]
  },
  {
   "cell_type": "code",
   "execution_count": 0,
   "metadata": {
    "colab": {},
    "colab_type": "code",
    "id": "CegObUMiJhVF"
   },
   "outputs": [],
   "source": [
    "# Model 3 -\n",
    "# Let us remove 1 feature from the correlated feature pair\n",
    "\n",
    "# Arrival_date_year and arrival_date_month = -0.52\n",
    "# Reservation_status and deposit type = -0.46\n",
    "# market_segment vs distribution_channel = 0.76\n",
    "# # reserved_room_type vs assigned_room_type = 0.81"
   ]
  },
  {
   "cell_type": "code",
   "execution_count": 0,
   "metadata": {
    "colab": {},
    "colab_type": "code",
    "id": "8pEeVd-Nyf_S"
   },
   "outputs": [],
   "source": [
    "# X_train = X_train.drop('arrival_date_month',axis=1)\n",
    "# X_test = X_test.drop('arrival_date_month',axis=1)\n",
    "\n",
    "# X_train = X_train.drop('market_segment',axis=1)\n",
    "# X_test = X_test.drop('market_segment',axis=1)\n",
    "\n",
    "# X_train = X_train.drop('reserved_room_type',axis=1)\n",
    "# X_test = X_test.drop('reserved_room_type',axis=1)arrival_date_month"
   ]
  },
  {
   "cell_type": "code",
   "execution_count": 0,
   "metadata": {
    "colab": {},
    "colab_type": "code",
    "id": "jt4Uk13nK7c1"
   },
   "outputs": [],
   "source": [
    "# X_train_enc = pd.get_dummies(data=X_train,columns=X_train.columns)\n",
    "# X_test_enc = pd.get_dummies(data=X_test,columns=X_test.columns)\n",
    "# X_train_enc,X_test_enc =X_train_enc.align(X_test_enc, join='left', axis=1)\n",
    "# X_test_enc=X_test_enc.fillna(0)"
   ]
  },
  {
   "cell_type": "code",
   "execution_count": 0,
   "metadata": {
    "colab": {},
    "colab_type": "code",
    "id": "_EeU_d82K-G_"
   },
   "outputs": [],
   "source": [
    "# clf_bern3 = BernoulliNB()\n",
    "# clf_bern3.fit(X_train_enc, y_train)"
   ]
  },
  {
   "cell_type": "code",
   "execution_count": 0,
   "metadata": {
    "colab": {},
    "colab_type": "code",
    "id": "hZXV3hcjK-RJ"
   },
   "outputs": [],
   "source": [
    "# y_pred_bern3 = clf_bern3.predict(X_test_enc)\n",
    "# y_prob_bern3=clf_bern3.predict_proba(X_test_enc)\n",
    "# print('test-set confusion matrix:\\n', confusion_matrix(y_test,y_pred_bern3)) \n",
    "# print(\"recall score: \", recall_score(y_test,y_pred_bern3))\n",
    "# print(\"precision score: \", precision_score(y_test,y_pred_bern3))\n",
    "# print(\"f1 score: \", f1_score(y_test,y_pred_bern3))\n",
    "# print(\"accuracy score: \", accuracy_score(y_test,y_pred_bern3))"
   ]
  },
  {
   "cell_type": "markdown",
   "metadata": {
    "colab_type": "text",
    "id": "t8Gy8C8sK-f0"
   },
   "source": [
    "## Implementing gaussian NB classifier\n",
    "GaussianNB implements the Gaussian Naive Bayes algorithm for classification. The likelihood of the features is assumed to be Gaussian. sklearn documentation"
   ]
  },
  {
   "cell_type": "code",
   "execution_count": 0,
   "metadata": {
    "colab": {},
    "colab_type": "code",
    "id": "aLSl0UAwK-Vq"
   },
   "outputs": [],
   "source": [
    "# train = backup_train.copy()\n",
    "# test=backup_test.copy()"
   ]
  },
  {
   "cell_type": "code",
   "execution_count": 0,
   "metadata": {
    "colab": {},
    "colab_type": "code",
    "id": "eSDloWyuK-ax"
   },
   "outputs": [],
   "source": [
    "# train=train.fillna(0)\n",
    "# test=test.fillna(0)\n",
    "# y_train = train[\"is_canceled\"]\n",
    "# X_train =train[['lead_time','arrival_date_week_number','days_in_waiting_list','adr','required_car_parking_spaces',\\\n",
    "#                'total_days','total_of_special_requests','total_customers']]\n",
    "# y_test = test[\"is_canceled\"]\n",
    "# X_test = test[['lead_time','arrival_date_week_number','days_in_waiting_list','adr','required_car_parking_spaces',\\\n",
    "#                'total_days','total_of_special_requests','total_customers']]"
   ]
  },
  {
   "cell_type": "code",
   "execution_count": 0,
   "metadata": {
    "colab": {},
    "colab_type": "code",
    "id": "E2NbKPGSK-tC"
   },
   "outputs": [],
   "source": [
    "# classifier2 = GaussianNB()\n",
    "# classifier2.fit(X_train, y_train)"
   ]
  },
  {
   "cell_type": "markdown",
   "metadata": {
    "colab_type": "text",
    "id": "3RlUOKEvK96P"
   },
   "source": [
    "## Parameters\n",
    "\n",
    "Priors - Prior probabilities of the classes. If specified the priors are not adjusted according to the data.<BR/>\n",
    "var_smoothing - Portion of the largest variance of all features that is added to variances for calculation stability."
   ]
  },
  {
   "cell_type": "code",
   "execution_count": 0,
   "metadata": {
    "colab": {},
    "colab_type": "code",
    "id": "c3BiQSADL5Ne"
   },
   "outputs": [],
   "source": [
    "# y_pred2 = classifier2.predict(X_test)\n",
    "# y_prob2 = classifier2.predict_proba(X_test)"
   ]
  },
  {
   "cell_type": "code",
   "execution_count": 0,
   "metadata": {
    "colab": {},
    "colab_type": "code",
    "id": "YsBsgQX2L53N"
   },
   "outputs": [],
   "source": [
    "# print('test-set confusion matrix:\\n', confusion_matrix(y_test,y_pred2)) \n",
    "# print(\"recall score: \", recall_score(y_test,y_pred2))\n",
    "# print(\"precision score: \", precision_score(y_test,y_pred2))\n",
    "# print(\"f1 score: \", f1_score(y_test,y_pred2))\n",
    "# print(\"accuracy score: \", accuracy_score(y_test,y_pred2))"
   ]
  },
  {
   "cell_type": "markdown",
   "metadata": {
    "colab_type": "text",
    "id": "7mOftTwMK678"
   },
   "source": [
    "## Implementing ensemble of Gaussian and Bernoulli NB\n",
    "Gaussian NB is trained on continuous feature<BR/>\n",
    "Bernoulli NB is trained on categorical features<BR/>\n",
    "The product of probability of both models gives final probability"
   ]
  },
  {
   "cell_type": "code",
   "execution_count": 0,
   "metadata": {
    "colab": {},
    "colab_type": "code",
    "id": "u8uVgXdDL6dn"
   },
   "outputs": [],
   "source": [
    "# backup_train[:5]"
   ]
  },
  {
   "cell_type": "code",
   "execution_count": 0,
   "metadata": {
    "colab": {},
    "colab_type": "code",
    "id": "KXclssgfMuGC"
   },
   "outputs": [],
   "source": [
    "# y_train = backup_train[\"is_canceled\"]\n",
    "# X_train = backup_train.drop([\"is_canceled\"], axis=1)\n",
    "# y_test = backup_test[\"is_canceled\"]\n",
    "# X_test = backup_test.drop([\"is_canceled\"], axis=1)"
   ]
  },
  {
   "cell_type": "code",
   "execution_count": 0,
   "metadata": {
    "colab": {},
    "colab_type": "code",
    "id": "Awbyn-vjMuNZ"
   },
   "outputs": [],
   "source": [
    "# # Basic pre-processing\n",
    "# X_train['total_customers'][X_train['total_customers'] >= 4] = 4\n",
    "# X_train['total_customers'][X_train['total_customers'] <= 0] = 1\n",
    "# X_test['total_customers'][X_test['total_customers'] >= 4] = 4\n",
    "# X_test['total_customers'][X_test['total_customers'] <= 1] = 1\n",
    "\n",
    "\n",
    "# X_train['required_car_parking_spaces'][X_train['required_car_parking_spaces'] >= 1] = 1\n",
    "# X_test['required_car_parking_spaces'][X_test['required_car_parking_spaces'] >= 1] = 1\n",
    "\n",
    "\n",
    "\n",
    "# X_train['total_of_special_requests'][X_train['total_of_special_requests'] >= 3] = 3\n",
    "# X_test['total_of_special_requests'][X_test['total_of_special_requests'] >= 3] = 3"
   ]
  },
  {
   "cell_type": "code",
   "execution_count": 0,
   "metadata": {
    "colab": {},
    "colab_type": "code",
    "id": "V56q2xn4MuUB"
   },
   "outputs": [],
   "source": [
    "# one hot encoding the categorical features\n",
    "# cat_col=['hotel','arrival_date_year','arrival_date_month','meal','market_segment',\\\n",
    "#           'distribution_channel','reserved_room_type','deposit_type','customer_type','is_repeated_guest',\\\n",
    "#         'total_customers','required_car_parking_spaces','total_of_special_requests']\n",
    "# d_cat_train=pd.get_dummies(data=X_train[cat_col],columns=cat_col)\n",
    "# d_cat_test=pd.get_dummies(data=X_test[cat_col],columns=cat_col)"
   ]
  },
  {
   "cell_type": "code",
   "execution_count": 0,
   "metadata": {
    "colab": {},
    "colab_type": "code",
    "id": "t5WeaH00MuZ8"
   },
   "outputs": [],
   "source": [
    "# d_cat_test.shape"
   ]
  },
  {
   "cell_type": "code",
   "execution_count": 0,
   "metadata": {
    "colab": {},
    "colab_type": "code",
    "id": "lfMK3licMufL"
   },
   "outputs": [],
   "source": [
    "# d_cat_train,d_cat_test =d_cat_train.align(d_cat_test, join='left', axis=1)\n",
    "# d_cat_test=d_cat_test.fillna(0)"
   ]
  },
  {
   "cell_type": "code",
   "execution_count": 0,
   "metadata": {
    "colab": {},
    "colab_type": "code",
    "id": "NZ7jNw3CMuj-"
   },
   "outputs": [],
   "source": [
    "# clf_bern = BernoulliNB()\n",
    "# clf_bern.fit(d_cat_train, y_train)"
   ]
  },
  {
   "cell_type": "code",
   "execution_count": 0,
   "metadata": {
    "colab": {},
    "colab_type": "code",
    "id": "RH2RhPktMuoF"
   },
   "outputs": [],
   "source": [
    "# d_cont_train=X_train[['lead_time','arrival_date_week_number','days_in_waiting_list','adr','total_days']]\n",
    "# d_cont_train = d_cont_train.fillna(0)\n",
    "# d_cont_test = X_test[['lead_time','arrival_date_week_number','days_in_waiting_list','adr','total_days']]\n",
    "# d_cont_test=d_cont_test.fillna(0)"
   ]
  },
  {
   "cell_type": "code",
   "execution_count": 0,
   "metadata": {
    "colab": {},
    "colab_type": "code",
    "id": "FcbnU5p_NU34"
   },
   "outputs": [],
   "source": [
    "# clf_gauss = GaussianNB()\n",
    "# clf_gauss.fit(d_cont_train, y_train)"
   ]
  },
  {
   "cell_type": "code",
   "execution_count": 0,
   "metadata": {
    "colab": {},
    "colab_type": "code",
    "id": "vQlrnkyPNU_r"
   },
   "outputs": [],
   "source": [
    "# y_pred_bern=clf_bern.predict(d_cat_test)\n",
    "# y_pred_gauss=clf_gauss.predict(d_cont_test)"
   ]
  },
  {
   "cell_type": "code",
   "execution_count": 0,
   "metadata": {
    "colab": {},
    "colab_type": "code",
    "id": "JZb2A283NVHf"
   },
   "outputs": [],
   "source": [
    "# y_prob_bern=clf_bern.predict_proba(d_cat_test)\n",
    "# y_prob_bern_df = pd.DataFrame(data=y_prob_bern,columns=['prob0_b','prob1_b'])\n",
    "# y_prob_gauss=clf_gauss.predict_proba(d_cont_test)\n",
    "# y_prob_gauss_df = pd.DataFrame(data=y_prob_gauss,columns=['prob0_g','prob1_g'])"
   ]
  },
  {
   "cell_type": "code",
   "execution_count": 0,
   "metadata": {
    "colab": {},
    "colab_type": "code",
    "id": "YZBLDAOZNn5u"
   },
   "outputs": [],
   "source": [
    "# y_prob=y_prob_bern_df.join(y_prob_gauss_df)"
   ]
  },
  {
   "cell_type": "code",
   "execution_count": 0,
   "metadata": {
    "colab": {},
    "colab_type": "code",
    "id": "BfYERftKNoBZ"
   },
   "outputs": [],
   "source": [
    "# y_prob['prob0']=y_prob['prob0_b']*y_prob['prob0_g']\n",
    "# y_prob['prob1']=y_prob['prob1_b']*y_prob['prob1_g']"
   ]
  },
  {
   "cell_type": "code",
   "execution_count": 0,
   "metadata": {
    "colab": {},
    "colab_type": "code",
    "id": "0GbSJo5PNVPs"
   },
   "outputs": [],
   "source": [
    "# y_prob[:10]"
   ]
  },
  {
   "cell_type": "code",
   "execution_count": 0,
   "metadata": {
    "colab": {},
    "colab_type": "code",
    "id": "y1U1ujohMusb"
   },
   "outputs": [],
   "source": [
    "# y_prob['prediction']=np.where(y_prob['prob1'] > y_prob['prob0'], 1,0)"
   ]
  },
  {
   "cell_type": "code",
   "execution_count": 0,
   "metadata": {
    "colab": {},
    "colab_type": "code",
    "id": "ojueRsi-PiQb"
   },
   "outputs": [],
   "source": [
    "# print(\"Bernoulli f1 score: \", f1_score(y_test,y_pred_bern))\n",
    "# print(\"Gaussian f1 score: \", f1_score(y_test,y_pred_gauss))\n",
    "# print(\"Ensemble f1 score: \", f1_score(y_test,y_prob['prediction']"
   ]
  },
  {
   "cell_type": "code",
   "execution_count": 0,
   "metadata": {
    "colab": {},
    "colab_type": "code",
    "id": "8e5O1M5dPiNt"
   },
   "outputs": [],
   "source": [
    "## Comparing Gaussian NB and Bernuolli NB"
   ]
  },
  {
   "cell_type": "code",
   "execution_count": 0,
   "metadata": {
    "colab": {},
    "colab_type": "code",
    "id": "wVb68OQIPiKl"
   },
   "outputs": [],
   "source": [
    "# false_positive_rate4, true_positive_rate4, threshold4 = roc_curve(y_test, y_prob_bern3[:,1])\n",
    "# roc_auc_bern = auc(false_positive_rate4, true_positive_rate4)"
   ]
  },
  {
   "cell_type": "code",
   "execution_count": 0,
   "metadata": {
    "colab": {},
    "colab_type": "code",
    "id": "-RpWhbPvPiIp"
   },
   "outputs": [],
   "source": [
    "# false_positive_rate, true_positive_rate, threshold = roc_curve(y_test, y_prob2[:,1])\n",
    "# roc_auc_gauss = auc(false_positive_rate, true_positive_rate)"
   ]
  },
  {
   "cell_type": "code",
   "execution_count": 0,
   "metadata": {
    "colab": {},
    "colab_type": "code",
    "id": "vTzddYuOPiGJ"
   },
   "outputs": [],
   "source": [
    "# plt.figure(figsize = (10,10))\n",
    "# plt.title('Receiver Operating Characteristic')\n",
    "# plt.plot(false_positive_rate, true_positive_rate, color = 'red', label = 'Gauss AUC = %0.2f' % roc_auc_gauss)\n",
    "# plt.plot(false_positive_rate4, true_positive_rate4, color = 'green', label = 'Bern AUC = %0.2f' % roc_auc_bern)\n",
    "# plt.legend(loc = 'lower right')\n",
    "# plt.plot([0, 1], [0, 1], linestyle = '--')\n",
    "# plt.axis('tight')\n",
    "# plt.ylabel('True Positive Rate')\n",
    "# plt.xlabel('False Positive Rate')"
   ]
  },
  {
   "cell_type": "code",
   "execution_count": 0,
   "metadata": {
    "colab": {},
    "colab_type": "code",
    "id": "1s66AwTXPiAp"
   },
   "outputs": [],
   "source": []
  },
  {
   "cell_type": "code",
   "execution_count": 0,
   "metadata": {
    "colab": {},
    "colab_type": "code",
    "id": "q8TAiQESPh43"
   },
   "outputs": [],
   "source": []
  },
  {
   "cell_type": "code",
   "execution_count": 0,
   "metadata": {
    "colab": {},
    "colab_type": "code",
    "id": "7N9WRpx_Phu9"
   },
   "outputs": [],
   "source": []
  },
  {
   "cell_type": "code",
   "execution_count": 0,
   "metadata": {
    "colab": {},
    "colab_type": "code",
    "id": "uZw2KEpfPhgt"
   },
   "outputs": [],
   "source": []
  },
  {
   "cell_type": "markdown",
   "metadata": {
    "colab_type": "text",
    "id": "e0cQMBUVPZJ0"
   },
   "source": []
  },
  {
   "cell_type": "code",
   "execution_count": 0,
   "metadata": {
    "colab": {},
    "colab_type": "code",
    "id": "EU0dgaDOPg6w"
   },
   "outputs": [],
   "source": []
  },
  {
   "cell_type": "markdown",
   "metadata": {
    "colab_type": "text",
    "id": "3_QlZvTgQgfO"
   },
   "source": [
    "## Other references:\n",
    "[seaborn-distplot](https://seaborn.pydata.org/tutorial/distributions.html)\n"
   ]
  }
 ],
 "metadata": {
  "colab": {
   "collapsed_sections": [],
   "name": "WWC-MLclassification1",
   "provenance": []
  },
  "kernelspec": {
   "display_name": "Python 3",
   "language": "python",
   "name": "python3"
  },
  "language_info": {
   "codemirror_mode": {
    "name": "ipython",
    "version": 3
   },
   "file_extension": ".py",
   "mimetype": "text/x-python",
   "name": "python",
   "nbconvert_exporter": "python",
   "pygments_lexer": "ipython3",
   "version": "3.7.7"
  }
 },
 "nbformat": 4,
 "nbformat_minor": 1
}
